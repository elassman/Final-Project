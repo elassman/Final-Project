{
 "cells": [
  {
   "cell_type": "code",
   "execution_count": 1,
   "metadata": {},
   "outputs": [],
   "source": [
    "import pandas as pd\n",
    "import numpy as np\n",
    "import matplotlib.pyplot as plt\n",
    "from scipy import stats"
   ]
  },
  {
   "cell_type": "code",
   "execution_count": 2,
   "metadata": {},
   "outputs": [],
   "source": [
    "NHANES = pd.read_csv(r'/Users/emilylassman/Downloads/NHANES.csv')"
   ]
  },
  {
   "cell_type": "markdown",
   "metadata": {},
   "source": [
    "# Income and Race"
   ]
  },
  {
   "cell_type": "code",
   "execution_count": 92,
   "metadata": {},
   "outputs": [],
   "source": [
    "#New dataframe dropping NANs from the income column\n",
    "income_df = NHANES.dropna(subset=['HHIncomeMid'])"
   ]
  },
  {
   "cell_type": "code",
   "execution_count": 93,
   "metadata": {},
   "outputs": [],
   "source": [
    "#Separating income by race and age\n",
    "white = income_df['Race3'] == 'White'\n",
    "black = income_df['Race3'] == 'Black'\n",
    "mexican = income_df['Race3'] == 'Mexican'\n",
    "hispanic = income_df['Race3'] == 'Hispanic'\n",
    "asian = income_df['Race3'] == 'Asian'\n",
    "other = income_df['Race3'] == 'Other'\n",
    "adult = income_df['Age'] >= 20"
   ]
  },
  {
   "cell_type": "code",
   "execution_count": 94,
   "metadata": {},
   "outputs": [],
   "source": [
    "#Creating new dataframes based on race and age criteria\n",
    "white_df = income_df[white & adult]\n",
    "black_df = income_df[black & adult]\n",
    "mexican_df = income_df[mexican & adult]\n",
    "hispanic_df = income_df[hispanic & adult]\n",
    "asian_df = income_df[asian & adult]\n",
    "other_df = income_df[other & adult]"
   ]
  },
  {
   "cell_type": "code",
   "execution_count": 95,
   "metadata": {},
   "outputs": [
    {
     "name": "stdout",
     "output_type": "stream",
     "text": [
      "Mean white annual income: 62447.916666666664\n",
      "Mean black income: 46617.64705882353\n"
     ]
    }
   ],
   "source": [
    "#Get means of annual incomes for black and white adults\n",
    "print(\"Mean white annual income:\", np.mean(white_df['HHIncomeMid'].dropna()))\n",
    "print(\"Mean black income:\", np.mean(black_df['HHIncomeMid'].dropna()))"
   ]
  },
  {
   "cell_type": "code",
   "execution_count": 96,
   "metadata": {},
   "outputs": [],
   "source": [
    "#Define CI mean diff function\n",
    "def CI_mean_diff(list1, list2):\n",
    "    s1 = np.var(list1)\n",
    "    s2 = np.var(list2)\n",
    "    n1 = len(list1)\n",
    "    n2 = len(list2)\n",
    "    se2 = s1/n1 + s2/n2\n",
    "    se = np.sqrt(se2)\n",
    "\n",
    "    diff = np.mean(list1) - np.mean(list2)\n",
    "    low = diff - 1.96 * se\n",
    "    up = diff + 1.96 * se\n",
    "    print(\"The average difference is:\", diff)\n",
    "    print(\"The 95% CI is: ({}, {})\".format(low, up))"
   ]
  },
  {
   "cell_type": "code",
   "execution_count": 97,
   "metadata": {},
   "outputs": [
    {
     "name": "stdout",
     "output_type": "stream",
     "text": [
      "The average difference is: 15830.269607843133\n",
      "The 95% CI is: (12110.217792503829, 19550.32142318244)\n"
     ]
    }
   ],
   "source": [
    "#Get the difference between means of white income and black income with 95% CI\n",
    "CI_mean_diff(white_df['HHIncomeMid'], black_df['HHIncomeMid'])"
   ]
  },
  {
   "cell_type": "code",
   "execution_count": 98,
   "metadata": {},
   "outputs": [
    {
     "name": "stdout",
     "output_type": "stream",
     "text": [
      "Test statistic: 8.329694537483805\n",
      "p-value: 9.807712009189038e-16\n"
     ]
    },
    {
     "data": {
      "text/plain": [
       "4.62957e-07"
      ]
     },
     "execution_count": 98,
     "metadata": {},
     "output_type": "execute_result"
    }
   ],
   "source": [
    "#Two-way t-test comparing white income and black income\n",
    "t_val, p_val = stats.ttest_ind(white_df['HHIncomeMid'],\n",
    "                               black_df['HHIncomeMid'], equal_var=False)\n",
    "\n",
    "print(\"Test statistic:\", t_val)\n",
    "print(\"p-value:\", p_val)\n",
    "0.0000011037\n",
    "0.000000462957"
   ]
  },
  {
   "cell_type": "code",
   "execution_count": 99,
   "metadata": {},
   "outputs": [],
   "source": [
    "#this data provides evidence that the mean annual household income for white adults is greater than that\n",
    "#of black adults (p<0.001; two sample t-test). The mean for white adults is estimated to to exceed \n",
    "#the mean of black adults by 15830.27 USD (95% CI = [12110.22, 19550.32])."
   ]
  },
  {
   "cell_type": "markdown",
   "metadata": {},
   "source": [
    "# Poverty Level and Race"
   ]
  },
  {
   "cell_type": "code",
   "execution_count": 100,
   "metadata": {},
   "outputs": [],
   "source": [
    "#New dataframe dropping NANs from the poverty column\n",
    "poverty_df = NHANES.dropna(subset=['Poverty'])"
   ]
  },
  {
   "cell_type": "code",
   "execution_count": 101,
   "metadata": {},
   "outputs": [],
   "source": [
    "#Separating poverty by race and age\n",
    "white = poverty_df['Race3'] == 'White'\n",
    "black = poverty_df['Race3'] == 'Black'\n",
    "mexican = poverty_df['Race3'] == 'Mexican'\n",
    "hispanic = poverty_df['Race3'] == 'Hispanic'\n",
    "asian = poverty_df['Race3'] == 'Asian'\n",
    "other = poverty_df['Race3'] == 'Other'\n",
    "adult = poverty_df['Age'] >= 20"
   ]
  },
  {
   "cell_type": "code",
   "execution_count": 102,
   "metadata": {},
   "outputs": [],
   "source": [
    "#Creating new dataframes based on race and age criteria\n",
    "white_poverty = poverty_df[white & adult]\n",
    "black_poverty = poverty_df[black & adult]\n",
    "mexican_poverty = poverty_df[mexican & adult]\n",
    "hispanic_poverty = poverty_df[hispanic & adult]\n",
    "asian_poverty = poverty_df[asian & adult]\n",
    "other_poverty = poverty_df[other & adult]"
   ]
  },
  {
   "cell_type": "code",
   "execution_count": 103,
   "metadata": {},
   "outputs": [
    {
     "name": "stdout",
     "output_type": "stream",
     "text": [
      "Mean white poverty level: 3.1860835164835195\n",
      "Mean black poverty level: 2.3877492877492905\n"
     ]
    }
   ],
   "source": [
    "#Get means of poverty levels for black and white adults\n",
    "print(\"Mean white poverty level:\", np.mean(white_poverty['Poverty'].dropna()))\n",
    "print(\"Mean black poverty level:\", np.mean(black_poverty['Poverty'].dropna()))"
   ]
  },
  {
   "cell_type": "code",
   "execution_count": 104,
   "metadata": {},
   "outputs": [
    {
     "name": "stdout",
     "output_type": "stream",
     "text": [
      "The average difference is: 0.798334228734229\n",
      "The 95% CI is: (0.6131776208672413, 0.9834908366012167)\n"
     ]
    }
   ],
   "source": [
    "#Get the difference between means of white poverty level and black poverty level with 95% CI\n",
    "CI_mean_diff(white_poverty['Poverty'], black_poverty['Poverty'])"
   ]
  },
  {
   "cell_type": "code",
   "execution_count": 105,
   "metadata": {},
   "outputs": [
    {
     "name": "stdout",
     "output_type": "stream",
     "text": [
      "Test statistic: 8.440164478754868\n",
      "p-value: 4.113889023121813e-16\n"
     ]
    }
   ],
   "source": [
    "#Two-way t-test comparing white poverty level and black poverty level\n",
    "t_val, p_val = stats.ttest_ind(white_poverty['Poverty'],\n",
    "                               black_poverty['Poverty'], equal_var=False)\n",
    "\n",
    "print(\"Test statistic:\", t_val)\n",
    "print(\"p-value:\", p_val)"
   ]
  },
  {
   "cell_type": "code",
   "execution_count": 21,
   "metadata": {},
   "outputs": [],
   "source": [
    "#mean poverty level for white adults is greater than that\n",
    "#of black adults (p<0.001; two sample t-test). The mean for white adults is estimated to to exceed \n",
    "#the mean of black adults by 0.798 (95% CI = [0.613, 0.983])."
   ]
  },
  {
   "cell_type": "markdown",
   "metadata": {},
   "source": [
    "## Health Status and Race"
   ]
  },
  {
   "cell_type": "code",
   "execution_count": 22,
   "metadata": {},
   "outputs": [
    {
     "data": {
      "text/html": [
       "<div>\n",
       "<style scoped>\n",
       "    .dataframe tbody tr th:only-of-type {\n",
       "        vertical-align: middle;\n",
       "    }\n",
       "\n",
       "    .dataframe tbody tr th {\n",
       "        vertical-align: top;\n",
       "    }\n",
       "\n",
       "    .dataframe thead th {\n",
       "        text-align: right;\n",
       "    }\n",
       "</style>\n",
       "<table border=\"1\" class=\"dataframe\">\n",
       "  <thead>\n",
       "    <tr style=\"text-align: right;\">\n",
       "      <th>Race3</th>\n",
       "      <th>Asian</th>\n",
       "      <th>Black</th>\n",
       "      <th>Hispanic</th>\n",
       "      <th>Mexican</th>\n",
       "      <th>Other</th>\n",
       "      <th>White</th>\n",
       "    </tr>\n",
       "    <tr>\n",
       "      <th>HealthGen</th>\n",
       "      <th></th>\n",
       "      <th></th>\n",
       "      <th></th>\n",
       "      <th></th>\n",
       "      <th></th>\n",
       "      <th></th>\n",
       "    </tr>\n",
       "  </thead>\n",
       "  <tbody>\n",
       "    <tr>\n",
       "      <th>Excellent</th>\n",
       "      <td>28</td>\n",
       "      <td>45</td>\n",
       "      <td>23</td>\n",
       "      <td>24</td>\n",
       "      <td>15</td>\n",
       "      <td>351</td>\n",
       "    </tr>\n",
       "    <tr>\n",
       "      <th>Fair</th>\n",
       "      <td>17</td>\n",
       "      <td>74</td>\n",
       "      <td>49</td>\n",
       "      <td>70</td>\n",
       "      <td>13</td>\n",
       "      <td>249</td>\n",
       "    </tr>\n",
       "    <tr>\n",
       "      <th>Good</th>\n",
       "      <td>90</td>\n",
       "      <td>168</td>\n",
       "      <td>103</td>\n",
       "      <td>136</td>\n",
       "      <td>42</td>\n",
       "      <td>946</td>\n",
       "    </tr>\n",
       "    <tr>\n",
       "      <th>Poor</th>\n",
       "      <td>6</td>\n",
       "      <td>17</td>\n",
       "      <td>7</td>\n",
       "      <td>11</td>\n",
       "      <td>1</td>\n",
       "      <td>35</td>\n",
       "    </tr>\n",
       "    <tr>\n",
       "      <th>Vgood</th>\n",
       "      <td>68</td>\n",
       "      <td>113</td>\n",
       "      <td>52</td>\n",
       "      <td>72</td>\n",
       "      <td>36</td>\n",
       "      <td>937</td>\n",
       "    </tr>\n",
       "  </tbody>\n",
       "</table>\n",
       "</div>"
      ],
      "text/plain": [
       "Race3      Asian  Black  Hispanic  Mexican  Other  White\n",
       "HealthGen                                               \n",
       "Excellent     28     45        23       24     15    351\n",
       "Fair          17     74        49       70     13    249\n",
       "Good          90    168       103      136     42    946\n",
       "Poor           6     17         7       11      1     35\n",
       "Vgood         68    113        52       72     36    937"
      ]
     },
     "execution_count": 22,
     "metadata": {},
     "output_type": "execute_result"
    }
   ],
   "source": [
    "#Crosstabulation of Health Status and Race\n",
    "health = pd.crosstab(index=NHANES['HealthGen'], columns=NHANES['Race3'])\n",
    "health"
   ]
  },
  {
   "cell_type": "code",
   "execution_count": 106,
   "metadata": {},
   "outputs": [
    {
     "data": {
      "text/html": [
       "<div>\n",
       "<style scoped>\n",
       "    .dataframe tbody tr th:only-of-type {\n",
       "        vertical-align: middle;\n",
       "    }\n",
       "\n",
       "    .dataframe tbody tr th {\n",
       "        vertical-align: top;\n",
       "    }\n",
       "\n",
       "    .dataframe thead th {\n",
       "        text-align: right;\n",
       "    }\n",
       "</style>\n",
       "<table border=\"1\" class=\"dataframe\">\n",
       "  <thead>\n",
       "    <tr style=\"text-align: right;\">\n",
       "      <th>Race3</th>\n",
       "      <th>Asian_per</th>\n",
       "      <th>Black_per</th>\n",
       "      <th>Hispanic_per</th>\n",
       "      <th>Mexican_per</th>\n",
       "      <th>Other_per</th>\n",
       "      <th>White_per</th>\n",
       "    </tr>\n",
       "    <tr>\n",
       "      <th>HealthGen</th>\n",
       "      <th></th>\n",
       "      <th></th>\n",
       "      <th></th>\n",
       "      <th></th>\n",
       "      <th></th>\n",
       "      <th></th>\n",
       "    </tr>\n",
       "  </thead>\n",
       "  <tbody>\n",
       "    <tr>\n",
       "      <th>Excellent</th>\n",
       "      <td>0.133971</td>\n",
       "      <td>0.107914</td>\n",
       "      <td>0.098291</td>\n",
       "      <td>0.076677</td>\n",
       "      <td>0.140187</td>\n",
       "      <td>0.139396</td>\n",
       "    </tr>\n",
       "    <tr>\n",
       "      <th>Fair</th>\n",
       "      <td>0.081340</td>\n",
       "      <td>0.177458</td>\n",
       "      <td>0.209402</td>\n",
       "      <td>0.223642</td>\n",
       "      <td>0.121495</td>\n",
       "      <td>0.098888</td>\n",
       "    </tr>\n",
       "    <tr>\n",
       "      <th>Good</th>\n",
       "      <td>0.430622</td>\n",
       "      <td>0.402878</td>\n",
       "      <td>0.440171</td>\n",
       "      <td>0.434505</td>\n",
       "      <td>0.392523</td>\n",
       "      <td>0.375695</td>\n",
       "    </tr>\n",
       "    <tr>\n",
       "      <th>Poor</th>\n",
       "      <td>0.028708</td>\n",
       "      <td>0.040767</td>\n",
       "      <td>0.029915</td>\n",
       "      <td>0.035144</td>\n",
       "      <td>0.009346</td>\n",
       "      <td>0.013900</td>\n",
       "    </tr>\n",
       "    <tr>\n",
       "      <th>Vgood</th>\n",
       "      <td>0.325359</td>\n",
       "      <td>0.270983</td>\n",
       "      <td>0.222222</td>\n",
       "      <td>0.230032</td>\n",
       "      <td>0.336449</td>\n",
       "      <td>0.372121</td>\n",
       "    </tr>\n",
       "  </tbody>\n",
       "</table>\n",
       "</div>"
      ],
      "text/plain": [
       "Race3      Asian_per  Black_per  Hispanic_per  Mexican_per  Other_per  \\\n",
       "HealthGen                                                               \n",
       "Excellent   0.133971   0.107914      0.098291     0.076677   0.140187   \n",
       "Fair        0.081340   0.177458      0.209402     0.223642   0.121495   \n",
       "Good        0.430622   0.402878      0.440171     0.434505   0.392523   \n",
       "Poor        0.028708   0.040767      0.029915     0.035144   0.009346   \n",
       "Vgood       0.325359   0.270983      0.222222     0.230032   0.336449   \n",
       "\n",
       "Race3      White_per  \n",
       "HealthGen             \n",
       "Excellent   0.139396  \n",
       "Fair        0.098888  \n",
       "Good        0.375695  \n",
       "Poor        0.013900  \n",
       "Vgood       0.372121  "
      ]
     },
     "execution_count": 106,
     "metadata": {},
     "output_type": "execute_result"
    }
   ],
   "source": [
    "#Get percentages of each race\n",
    "health['Asian_per'] = health['Asian'] / sum(health['Asian'])\n",
    "health['Black_per'] = health['Black'] / sum(health['Black'])\n",
    "health['Hispanic_per'] = health['Hispanic'] / sum(health['Hispanic'])\n",
    "health['Mexican_per'] = health['Mexican'] / sum(health['Mexican'])\n",
    "health['Other_per'] = health['Other'] / sum(health['Other'])\n",
    "health['White_per'] = health['White'] / sum(health['White'])\n",
    "health_race = health[['Asian_per','Black_per','Hispanic_per','Mexican_per','Other_per','White_per']]\n",
    "health_race"
   ]
  },
  {
   "cell_type": "code",
   "execution_count": 25,
   "metadata": {},
   "outputs": [
    {
     "name": "stdout",
     "output_type": "stream",
     "text": [
      "3804.0\n"
     ]
    }
   ],
   "source": [
    "#to compute totals:\n",
    "total = 0\n",
    "for race in health.columns:\n",
    "    total += np.sum(health[race])\n",
    "print(total)"
   ]
  },
  {
   "cell_type": "code",
   "execution_count": 107,
   "metadata": {},
   "outputs": [
    {
     "name": "stdout",
     "output_type": "stream",
     "text": [
      "chi2: 136.13370094960032\n",
      "p: 2.3910949483716795e-11\n",
      "dof: 44\n",
      "expected: [[2.67401565e+01 5.33523696e+01 2.99387398e+01 4.00462630e+01\n",
      "  1.36899366e+01 3.22161311e+02 1.27943332e-01 1.27943332e-01\n",
      "  1.27943332e-01 1.27943332e-01 1.27943332e-01 1.27943332e-01]\n",
      " [2.59828220e+01 5.18413243e+01 2.90908151e+01 3.89120732e+01\n",
      "  1.33022103e+01 3.13037062e+02 1.24319723e-01 1.24319723e-01\n",
      "  1.24319723e-01 1.24319723e-01 1.24319723e-01 1.24319723e-01]\n",
      " [8.17251752e+01 1.63059321e+02 9.15009138e+01 1.22392248e+02\n",
      "  4.18401614e+01 9.84612397e+02 3.91029546e-01 3.91029546e-01\n",
      "  3.91029546e-01 3.91029546e-01 3.91029546e-01 3.91029546e-01]\n",
      " [4.23921554e+00 8.45814776e+00 4.74629874e+00 6.34868165e+00\n",
      "  2.17031609e+00 5.10734198e+01 2.02833280e-02 2.02833280e-02\n",
      "  2.02833280e-02 2.02833280e-02 2.02833280e-02 2.02833280e-02]\n",
      " [7.03126308e+01 1.40288838e+02 7.87232326e+01 1.05300734e+02\n",
      "  3.59973756e+01 8.47115810e+02 3.36424071e-01 3.36424071e-01\n",
      "  3.36424071e-01 3.36424071e-01 3.36424071e-01 3.36424071e-01]]\n"
     ]
    }
   ],
   "source": [
    "#Chi2 test for health status and race\n",
    "from scipy import stats\n",
    "\n",
    "chi2, p, dof, expected = stats.chi2_contingency(health)\n",
    "\n",
    "print(\"chi2:\", chi2)\n",
    "print(\"p:\", p)\n",
    "print(\"dof:\", dof)\n",
    "print(\"expected:\", expected)"
   ]
  },
  {
   "cell_type": "code",
   "execution_count": 108,
   "metadata": {},
   "outputs": [],
   "source": [
    "#Define the CI proportion difference function\n",
    "def CI_prop_diff(s1, s2, n1, n2):\n",
    "    p1 = s1 / n1\n",
    "    p2 = s2 / n2\n",
    "    se2p1 = p1 * (1 - p1) / n1\n",
    "    se2p2 = p2 * (1 - p2) / n2\n",
    "    se2 = se2p1 + se2p2\n",
    "    se = np.sqrt(se2)\n",
    "    low = (p1 - p2) - 1.96 * se\n",
    "    up = (p1 - p2) + 1.96 * se\n",
    "    print(\"Proportion difference is:\", p1 - p2)\n",
    "    print(\"95% CI is: ({}, {})\".format(low, up))"
   ]
  },
  {
   "cell_type": "code",
   "execution_count": 109,
   "metadata": {},
   "outputs": [
    {
     "name": "stdout",
     "output_type": "stream",
     "text": [
      "Proportion difference is: 0.03148267724184434\n",
      "95% CI is: (-0.0012265593011888468, 0.06419191378487751)\n"
     ]
    }
   ],
   "source": [
    "#Get the CI proportion difference for whites with \"excellent\" health status \n",
    "#and blacks with \"excellent\" health status\n",
    "CI_prop_diff(s1=351, s2=45, n1=2518, n2=417)"
   ]
  },
  {
   "cell_type": "code",
   "execution_count": 29,
   "metadata": {},
   "outputs": [],
   "source": [
    "#statistical analysis from chi-squared test from independence indicated that there was \n",
    "#an association between health status and race  (chi^2(44), N=3804) = 136.13; p<0.001).\n",
    "#The observed proportion difference was 0.031 (95% CI [-0.001, 0.064])."
   ]
  },
  {
   "cell_type": "markdown",
   "metadata": {},
   "source": [
    "## Health Status and Education"
   ]
  },
  {
   "cell_type": "code",
   "execution_count": 110,
   "metadata": {},
   "outputs": [],
   "source": [
    "#New dataframe dropping NANs from Age, Race, Education, and HealthGen columns\n",
    "education = NHANES[['Age', 'Race3', 'Education', 'HealthGen']].dropna()"
   ]
  },
  {
   "cell_type": "code",
   "execution_count": 112,
   "metadata": {},
   "outputs": [
    {
     "data": {
      "text/html": [
       "<div>\n",
       "<style scoped>\n",
       "    .dataframe tbody tr th:only-of-type {\n",
       "        vertical-align: middle;\n",
       "    }\n",
       "\n",
       "    .dataframe tbody tr th {\n",
       "        vertical-align: top;\n",
       "    }\n",
       "\n",
       "    .dataframe thead th {\n",
       "        text-align: right;\n",
       "    }\n",
       "</style>\n",
       "<table border=\"1\" class=\"dataframe\">\n",
       "  <thead>\n",
       "    <tr style=\"text-align: right;\">\n",
       "      <th>Education</th>\n",
       "      <th>8th Grade</th>\n",
       "      <th>9 - 11th Grade</th>\n",
       "      <th>College Grad</th>\n",
       "      <th>High School</th>\n",
       "      <th>Some College</th>\n",
       "    </tr>\n",
       "    <tr>\n",
       "      <th>HealthGen</th>\n",
       "      <th></th>\n",
       "      <th></th>\n",
       "      <th></th>\n",
       "      <th></th>\n",
       "      <th></th>\n",
       "    </tr>\n",
       "  </thead>\n",
       "  <tbody>\n",
       "    <tr>\n",
       "      <th>Excellent</th>\n",
       "      <td>8</td>\n",
       "      <td>23</td>\n",
       "      <td>211</td>\n",
       "      <td>54</td>\n",
       "      <td>103</td>\n",
       "    </tr>\n",
       "    <tr>\n",
       "      <th>Fair</th>\n",
       "      <td>75</td>\n",
       "      <td>89</td>\n",
       "      <td>64</td>\n",
       "      <td>100</td>\n",
       "      <td>114</td>\n",
       "    </tr>\n",
       "    <tr>\n",
       "      <th>Good</th>\n",
       "      <td>60</td>\n",
       "      <td>162</td>\n",
       "      <td>324</td>\n",
       "      <td>297</td>\n",
       "      <td>439</td>\n",
       "    </tr>\n",
       "    <tr>\n",
       "      <th>Poor</th>\n",
       "      <td>9</td>\n",
       "      <td>16</td>\n",
       "      <td>11</td>\n",
       "      <td>12</td>\n",
       "      <td>28</td>\n",
       "    </tr>\n",
       "    <tr>\n",
       "      <th>Vgood</th>\n",
       "      <td>17</td>\n",
       "      <td>70</td>\n",
       "      <td>415</td>\n",
       "      <td>158</td>\n",
       "      <td>378</td>\n",
       "    </tr>\n",
       "  </tbody>\n",
       "</table>\n",
       "</div>"
      ],
      "text/plain": [
       "Education  8th Grade  9 - 11th Grade  College Grad  High School  Some College\n",
       "HealthGen                                                                    \n",
       "Excellent          8              23           211           54           103\n",
       "Fair              75              89            64          100           114\n",
       "Good              60             162           324          297           439\n",
       "Poor               9              16            11           12            28\n",
       "Vgood             17              70           415          158           378"
      ]
     },
     "execution_count": 112,
     "metadata": {},
     "output_type": "execute_result"
    }
   ],
   "source": [
    "edu = pd.crosstab(index=education['HealthGen'], columns=education['Education'])\n",
    "edu"
   ]
  },
  {
   "cell_type": "code",
   "execution_count": 113,
   "metadata": {},
   "outputs": [
    {
     "data": {
      "text/html": [
       "<div>\n",
       "<style scoped>\n",
       "    .dataframe tbody tr th:only-of-type {\n",
       "        vertical-align: middle;\n",
       "    }\n",
       "\n",
       "    .dataframe tbody tr th {\n",
       "        vertical-align: top;\n",
       "    }\n",
       "\n",
       "    .dataframe thead th {\n",
       "        text-align: right;\n",
       "    }\n",
       "</style>\n",
       "<table border=\"1\" class=\"dataframe\">\n",
       "  <thead>\n",
       "    <tr style=\"text-align: right;\">\n",
       "      <th>Education</th>\n",
       "      <th>8th Grade</th>\n",
       "      <th>9 - 11th Grade</th>\n",
       "      <th>College Grad</th>\n",
       "      <th>High School</th>\n",
       "      <th>Some College</th>\n",
       "      <th>Total</th>\n",
       "    </tr>\n",
       "    <tr>\n",
       "      <th>HealthGen</th>\n",
       "      <th></th>\n",
       "      <th></th>\n",
       "      <th></th>\n",
       "      <th></th>\n",
       "      <th></th>\n",
       "      <th></th>\n",
       "    </tr>\n",
       "  </thead>\n",
       "  <tbody>\n",
       "    <tr>\n",
       "      <th>Excellent</th>\n",
       "      <td>8</td>\n",
       "      <td>23</td>\n",
       "      <td>211</td>\n",
       "      <td>54</td>\n",
       "      <td>103</td>\n",
       "      <td>399</td>\n",
       "    </tr>\n",
       "    <tr>\n",
       "      <th>Fair</th>\n",
       "      <td>75</td>\n",
       "      <td>89</td>\n",
       "      <td>64</td>\n",
       "      <td>100</td>\n",
       "      <td>114</td>\n",
       "      <td>442</td>\n",
       "    </tr>\n",
       "    <tr>\n",
       "      <th>Good</th>\n",
       "      <td>60</td>\n",
       "      <td>162</td>\n",
       "      <td>324</td>\n",
       "      <td>297</td>\n",
       "      <td>439</td>\n",
       "      <td>1282</td>\n",
       "    </tr>\n",
       "    <tr>\n",
       "      <th>Poor</th>\n",
       "      <td>9</td>\n",
       "      <td>16</td>\n",
       "      <td>11</td>\n",
       "      <td>12</td>\n",
       "      <td>28</td>\n",
       "      <td>76</td>\n",
       "    </tr>\n",
       "    <tr>\n",
       "      <th>Vgood</th>\n",
       "      <td>17</td>\n",
       "      <td>70</td>\n",
       "      <td>415</td>\n",
       "      <td>158</td>\n",
       "      <td>378</td>\n",
       "      <td>1038</td>\n",
       "    </tr>\n",
       "  </tbody>\n",
       "</table>\n",
       "</div>"
      ],
      "text/plain": [
       "Education  8th Grade  9 - 11th Grade  College Grad  High School  Some College  \\\n",
       "HealthGen                                                                       \n",
       "Excellent          8              23           211           54           103   \n",
       "Fair              75              89            64          100           114   \n",
       "Good              60             162           324          297           439   \n",
       "Poor               9              16            11           12            28   \n",
       "Vgood             17              70           415          158           378   \n",
       "\n",
       "Education  Total  \n",
       "HealthGen         \n",
       "Excellent    399  \n",
       "Fair         442  \n",
       "Good        1282  \n",
       "Poor          76  \n",
       "Vgood       1038  "
      ]
     },
     "execution_count": 113,
     "metadata": {},
     "output_type": "execute_result"
    }
   ],
   "source": [
    "#Add totals\n",
    "edu['Total'] = edu['8th Grade'] + edu['9 - 11th Grade'] + edu['College Grad'] + edu['High School'] + edu['Some College']\n",
    "edu"
   ]
  },
  {
   "cell_type": "code",
   "execution_count": 114,
   "metadata": {},
   "outputs": [
    {
     "data": {
      "text/html": [
       "<div>\n",
       "<style scoped>\n",
       "    .dataframe tbody tr th:only-of-type {\n",
       "        vertical-align: middle;\n",
       "    }\n",
       "\n",
       "    .dataframe tbody tr th {\n",
       "        vertical-align: top;\n",
       "    }\n",
       "\n",
       "    .dataframe thead th {\n",
       "        text-align: right;\n",
       "    }\n",
       "</style>\n",
       "<table border=\"1\" class=\"dataframe\">\n",
       "  <thead>\n",
       "    <tr style=\"text-align: right;\">\n",
       "      <th>Education</th>\n",
       "      <th>8th Grade_per</th>\n",
       "      <th>9 - 11th Grade_per</th>\n",
       "      <th>High School_per</th>\n",
       "      <th>Some College_per</th>\n",
       "      <th>College Grad_per</th>\n",
       "    </tr>\n",
       "    <tr>\n",
       "      <th>HealthGen</th>\n",
       "      <th></th>\n",
       "      <th></th>\n",
       "      <th></th>\n",
       "      <th></th>\n",
       "      <th></th>\n",
       "    </tr>\n",
       "  </thead>\n",
       "  <tbody>\n",
       "    <tr>\n",
       "      <th>Excellent</th>\n",
       "      <td>0.047337</td>\n",
       "      <td>0.063889</td>\n",
       "      <td>0.086957</td>\n",
       "      <td>0.096987</td>\n",
       "      <td>0.205854</td>\n",
       "    </tr>\n",
       "    <tr>\n",
       "      <th>Fair</th>\n",
       "      <td>0.443787</td>\n",
       "      <td>0.247222</td>\n",
       "      <td>0.161031</td>\n",
       "      <td>0.107345</td>\n",
       "      <td>0.062439</td>\n",
       "    </tr>\n",
       "    <tr>\n",
       "      <th>Good</th>\n",
       "      <td>0.355030</td>\n",
       "      <td>0.450000</td>\n",
       "      <td>0.478261</td>\n",
       "      <td>0.413371</td>\n",
       "      <td>0.316098</td>\n",
       "    </tr>\n",
       "    <tr>\n",
       "      <th>Poor</th>\n",
       "      <td>0.053254</td>\n",
       "      <td>0.044444</td>\n",
       "      <td>0.019324</td>\n",
       "      <td>0.026365</td>\n",
       "      <td>0.010732</td>\n",
       "    </tr>\n",
       "    <tr>\n",
       "      <th>Vgood</th>\n",
       "      <td>0.100592</td>\n",
       "      <td>0.194444</td>\n",
       "      <td>0.254428</td>\n",
       "      <td>0.355932</td>\n",
       "      <td>0.404878</td>\n",
       "    </tr>\n",
       "  </tbody>\n",
       "</table>\n",
       "</div>"
      ],
      "text/plain": [
       "Education  8th Grade_per  9 - 11th Grade_per  High School_per  \\\n",
       "HealthGen                                                       \n",
       "Excellent       0.047337            0.063889         0.086957   \n",
       "Fair            0.443787            0.247222         0.161031   \n",
       "Good            0.355030            0.450000         0.478261   \n",
       "Poor            0.053254            0.044444         0.019324   \n",
       "Vgood           0.100592            0.194444         0.254428   \n",
       "\n",
       "Education  Some College_per  College Grad_per  \n",
       "HealthGen                                      \n",
       "Excellent          0.096987          0.205854  \n",
       "Fair               0.107345          0.062439  \n",
       "Good               0.413371          0.316098  \n",
       "Poor               0.026365          0.010732  \n",
       "Vgood              0.355932          0.404878  "
      ]
     },
     "execution_count": 114,
     "metadata": {},
     "output_type": "execute_result"
    }
   ],
   "source": [
    "#Add percentages of each education level\n",
    "edu['8th Grade_per'] = edu['8th Grade'] / sum(edu['8th Grade'])\n",
    "edu['9 - 11th Grade_per'] = edu['9 - 11th Grade'] / sum(edu['9 - 11th Grade'])\n",
    "edu['High School_per'] = edu['High School'] / sum(edu['High School'])\n",
    "edu['Some College_per'] = edu['Some College'] / sum(edu['Some College'])\n",
    "edu['College Grad_per'] = edu['College Grad'] / sum(edu['College Grad'])\n",
    "\n",
    "health_ed = edu[['8th Grade_per','9 - 11th Grade_per','High School_per','Some College_per','College Grad_per']]\n",
    "health_ed"
   ]
  },
  {
   "cell_type": "code",
   "execution_count": 35,
   "metadata": {},
   "outputs": [
    {
     "name": "stdout",
     "output_type": "stream",
     "text": [
      "6479.0\n"
     ]
    }
   ],
   "source": [
    "#to compute totals:\n",
    "total = 0\n",
    "for education in edu.columns:\n",
    "    total += np.sum(edu[education])\n",
    "print(total)"
   ]
  },
  {
   "cell_type": "code",
   "execution_count": 115,
   "metadata": {},
   "outputs": [
    {
     "name": "stdout",
     "output_type": "stream",
     "text": [
      "chi2: 419.5476839794525\n",
      "p: 9.237768511315324e-65\n",
      "dof: 40\n",
      "expected: [[2.08283181e+01 4.43680149e+01 1.26325598e+02 7.65348256e+01\n",
      "  1.30885644e+02 3.98942400e+02 1.23244486e-01 1.23244486e-01\n",
      "  1.23244486e-01 1.23244486e-01 1.23244486e-01]\n",
      " [2.30851502e+01 4.91754679e+01 1.40013485e+02 8.48276821e+01\n",
      "  1.45067630e+02 4.42169415e+02 1.36598522e-01 1.36598522e-01\n",
      "  1.36598522e-01 1.36598522e-01 1.36598522e-01]\n",
      " [6.69325754e+01 1.42578267e+02 4.05952011e+02 2.45947511e+02\n",
      "  4.20605888e+02 1.28201625e+03 3.96050742e-01 3.96050742e-01\n",
      "  3.96050742e-01 3.96050742e-01 3.96050742e-01]\n",
      " [3.96882948e+00 8.45431132e+00 2.40713031e+01 1.45836870e+01\n",
      "  2.49402184e+01 7.60183493e+01 2.34841981e-02 2.34841981e-02\n",
      "  2.34841981e-02 2.34841981e-02 2.34841981e-02]\n",
      " [5.41851268e+01 1.15423939e+02 3.28637603e+02 1.99106294e+02\n",
      "  3.40500619e+02 1.03785358e+03 3.20622052e-01 3.20622052e-01\n",
      "  3.20622052e-01 3.20622052e-01 3.20622052e-01]]\n"
     ]
    }
   ],
   "source": [
    "#Chi2 test comparing education level and health status\n",
    "from scipy import stats\n",
    "\n",
    "chi2, p, dof, expected = stats.chi2_contingency(edu)\n",
    "\n",
    "print(\"chi2:\", chi2)\n",
    "print(\"p:\", p)\n",
    "print(\"dof:\", dof)\n",
    "print(\"expected:\", expected)"
   ]
  },
  {
   "cell_type": "code",
   "execution_count": 116,
   "metadata": {},
   "outputs": [
    {
     "name": "stdout",
     "output_type": "stream",
     "text": [
      "Proportion difference is: 0.1585163804300765\n",
      "95% CI is: (0.11804659853980742, 0.19898616232034555)\n"
     ]
    }
   ],
   "source": [
    "#CI proportion difference for college grads with \"excellent\" health status and \n",
    "#those with an 8th grade education with \"excellent\" health status\n",
    "CI_prop_diff(s1=211, s2=8, n1=1025, n2=169)"
   ]
  },
  {
   "cell_type": "code",
   "execution_count": 38,
   "metadata": {},
   "outputs": [],
   "source": [
    "#Statistical analysis from chi-squared test from independence indicated that there was \n",
    "#an association between health status and education  (chi^2(16), N=3237) = 418.28; p<0.001).\n",
    "#The observed proportion difference was 0.159 (95% CI [0.118; 0.199])."
   ]
  },
  {
   "cell_type": "markdown",
   "metadata": {},
   "source": [
    "## Income and Health Status"
   ]
  },
  {
   "cell_type": "code",
   "execution_count": 117,
   "metadata": {
    "scrolled": true
   },
   "outputs": [
    {
     "data": {
      "text/html": [
       "<div>\n",
       "<style scoped>\n",
       "    .dataframe tbody tr th:only-of-type {\n",
       "        vertical-align: middle;\n",
       "    }\n",
       "\n",
       "    .dataframe tbody tr th {\n",
       "        vertical-align: top;\n",
       "    }\n",
       "\n",
       "    .dataframe thead th {\n",
       "        text-align: right;\n",
       "    }\n",
       "</style>\n",
       "<table border=\"1\" class=\"dataframe\">\n",
       "  <thead>\n",
       "    <tr style=\"text-align: right;\">\n",
       "      <th>HealthGen</th>\n",
       "      <th>Excellent</th>\n",
       "      <th>Fair</th>\n",
       "      <th>Good</th>\n",
       "      <th>Poor</th>\n",
       "      <th>Vgood</th>\n",
       "    </tr>\n",
       "    <tr>\n",
       "      <th>HHIncome</th>\n",
       "      <th></th>\n",
       "      <th></th>\n",
       "      <th></th>\n",
       "      <th></th>\n",
       "      <th></th>\n",
       "    </tr>\n",
       "  </thead>\n",
       "  <tbody>\n",
       "    <tr>\n",
       "      <th>0-4999</th>\n",
       "      <td>10</td>\n",
       "      <td>27</td>\n",
       "      <td>36</td>\n",
       "      <td>10</td>\n",
       "      <td>25</td>\n",
       "    </tr>\n",
       "    <tr>\n",
       "      <th>5000-9999</th>\n",
       "      <td>5</td>\n",
       "      <td>38</td>\n",
       "      <td>70</td>\n",
       "      <td>11</td>\n",
       "      <td>44</td>\n",
       "    </tr>\n",
       "    <tr>\n",
       "      <th>10000-14999</th>\n",
       "      <td>41</td>\n",
       "      <td>99</td>\n",
       "      <td>160</td>\n",
       "      <td>19</td>\n",
       "      <td>82</td>\n",
       "    </tr>\n",
       "    <tr>\n",
       "      <th>15000-19999</th>\n",
       "      <td>28</td>\n",
       "      <td>68</td>\n",
       "      <td>166</td>\n",
       "      <td>22</td>\n",
       "      <td>91</td>\n",
       "    </tr>\n",
       "    <tr>\n",
       "      <th>20000-24999</th>\n",
       "      <td>34</td>\n",
       "      <td>100</td>\n",
       "      <td>155</td>\n",
       "      <td>16</td>\n",
       "      <td>127</td>\n",
       "    </tr>\n",
       "    <tr>\n",
       "      <th>25000-34999</th>\n",
       "      <td>50</td>\n",
       "      <td>118</td>\n",
       "      <td>316</td>\n",
       "      <td>21</td>\n",
       "      <td>200</td>\n",
       "    </tr>\n",
       "    <tr>\n",
       "      <th>35000-44999</th>\n",
       "      <td>62</td>\n",
       "      <td>94</td>\n",
       "      <td>294</td>\n",
       "      <td>20</td>\n",
       "      <td>201</td>\n",
       "    </tr>\n",
       "    <tr>\n",
       "      <th>45000-54999</th>\n",
       "      <td>68</td>\n",
       "      <td>76</td>\n",
       "      <td>260</td>\n",
       "      <td>7</td>\n",
       "      <td>211</td>\n",
       "    </tr>\n",
       "    <tr>\n",
       "      <th>55000-64999</th>\n",
       "      <td>44</td>\n",
       "      <td>54</td>\n",
       "      <td>231</td>\n",
       "      <td>7</td>\n",
       "      <td>159</td>\n",
       "    </tr>\n",
       "    <tr>\n",
       "      <th>65000-74999</th>\n",
       "      <td>40</td>\n",
       "      <td>43</td>\n",
       "      <td>204</td>\n",
       "      <td>6</td>\n",
       "      <td>126</td>\n",
       "    </tr>\n",
       "    <tr>\n",
       "      <th>75000-99999</th>\n",
       "      <td>119</td>\n",
       "      <td>68</td>\n",
       "      <td>308</td>\n",
       "      <td>11</td>\n",
       "      <td>333</td>\n",
       "    </tr>\n",
       "    <tr>\n",
       "      <th>more 99999</th>\n",
       "      <td>316</td>\n",
       "      <td>114</td>\n",
       "      <td>544</td>\n",
       "      <td>14</td>\n",
       "      <td>743</td>\n",
       "    </tr>\n",
       "  </tbody>\n",
       "</table>\n",
       "</div>"
      ],
      "text/plain": [
       "HealthGen    Excellent  Fair  Good  Poor  Vgood\n",
       "HHIncome                                       \n",
       " 0-4999             10    27    36    10     25\n",
       " 5000-9999           5    38    70    11     44\n",
       "10000-14999         41    99   160    19     82\n",
       "15000-19999         28    68   166    22     91\n",
       "20000-24999         34   100   155    16    127\n",
       "25000-34999         50   118   316    21    200\n",
       "35000-44999         62    94   294    20    201\n",
       "45000-54999         68    76   260     7    211\n",
       "55000-64999         44    54   231     7    159\n",
       "65000-74999         40    43   204     6    126\n",
       "75000-99999        119    68   308    11    333\n",
       "more 99999         316   114   544    14    743"
      ]
     },
     "execution_count": 117,
     "metadata": {},
     "output_type": "execute_result"
    }
   ],
   "source": [
    "#Crosstabulation of health status and income\n",
    "income_category = pd.crosstab(index=NHANES['HHIncome'], columns=NHANES['HealthGen'])\n",
    "income_category"
   ]
  },
  {
   "cell_type": "code",
   "execution_count": 118,
   "metadata": {},
   "outputs": [],
   "source": [
    "#Get percentages of each health status\n",
    "income_category['poor_per'] = income_category['Poor'] / sum(income_category['Poor'])\n",
    "income_category['fair_per'] = income_category['Fair'] / sum(income_category['Fair'])\n",
    "income_category['good_per'] = income_category['Good'] / sum(income_category['Good'])\n",
    "income_category['vgood_per'] = income_category['Vgood'] / sum(income_category['Vgood'])\n",
    "income_category['excellent_per'] = income_category['Excellent'] / sum(income_category['Excellent'])\n",
    "\n",
    "health_income = income_category[['poor_per','fair_per','good_per','vgood_per','excellent_per']]"
   ]
  },
  {
   "cell_type": "code",
   "execution_count": 119,
   "metadata": {},
   "outputs": [],
   "source": [
    "#Convert the table to a CSV file\n",
    "health_income.to_csv('Income_Health_Table.csv')"
   ]
  },
  {
   "cell_type": "code",
   "execution_count": 120,
   "metadata": {},
   "outputs": [
    {
     "data": {
      "text/html": [
       "<div>\n",
       "<style scoped>\n",
       "    .dataframe tbody tr th:only-of-type {\n",
       "        vertical-align: middle;\n",
       "    }\n",
       "\n",
       "    .dataframe tbody tr th {\n",
       "        vertical-align: top;\n",
       "    }\n",
       "\n",
       "    .dataframe thead th {\n",
       "        text-align: right;\n",
       "    }\n",
       "</style>\n",
       "<table border=\"1\" class=\"dataframe\">\n",
       "  <thead>\n",
       "    <tr style=\"text-align: right;\">\n",
       "      <th></th>\n",
       "      <th>HHIncome</th>\n",
       "      <th>poor_per</th>\n",
       "      <th>fair_per</th>\n",
       "      <th>good_per</th>\n",
       "      <th>vgood_per</th>\n",
       "      <th>excellent_per</th>\n",
       "    </tr>\n",
       "  </thead>\n",
       "  <tbody>\n",
       "    <tr>\n",
       "      <th>0</th>\n",
       "      <td>0-4999</td>\n",
       "      <td>0.060976</td>\n",
       "      <td>0.030033</td>\n",
       "      <td>0.013120</td>\n",
       "      <td>0.010675</td>\n",
       "      <td>0.012240</td>\n",
       "    </tr>\n",
       "    <tr>\n",
       "      <th>1</th>\n",
       "      <td>5000-9999</td>\n",
       "      <td>0.067073</td>\n",
       "      <td>0.042269</td>\n",
       "      <td>0.025510</td>\n",
       "      <td>0.018787</td>\n",
       "      <td>0.006120</td>\n",
       "    </tr>\n",
       "    <tr>\n",
       "      <th>2</th>\n",
       "      <td>10000-14999</td>\n",
       "      <td>0.115854</td>\n",
       "      <td>0.110122</td>\n",
       "      <td>0.058309</td>\n",
       "      <td>0.035013</td>\n",
       "      <td>0.050184</td>\n",
       "    </tr>\n",
       "    <tr>\n",
       "      <th>3</th>\n",
       "      <td>15000-19999</td>\n",
       "      <td>0.134146</td>\n",
       "      <td>0.075640</td>\n",
       "      <td>0.060496</td>\n",
       "      <td>0.038856</td>\n",
       "      <td>0.034272</td>\n",
       "    </tr>\n",
       "    <tr>\n",
       "      <th>4</th>\n",
       "      <td>20000-24999</td>\n",
       "      <td>0.097561</td>\n",
       "      <td>0.111235</td>\n",
       "      <td>0.056487</td>\n",
       "      <td>0.054227</td>\n",
       "      <td>0.041616</td>\n",
       "    </tr>\n",
       "    <tr>\n",
       "      <th>5</th>\n",
       "      <td>25000-34999</td>\n",
       "      <td>0.128049</td>\n",
       "      <td>0.131257</td>\n",
       "      <td>0.115160</td>\n",
       "      <td>0.085397</td>\n",
       "      <td>0.061200</td>\n",
       "    </tr>\n",
       "    <tr>\n",
       "      <th>6</th>\n",
       "      <td>35000-44999</td>\n",
       "      <td>0.121951</td>\n",
       "      <td>0.104561</td>\n",
       "      <td>0.107143</td>\n",
       "      <td>0.085824</td>\n",
       "      <td>0.075887</td>\n",
       "    </tr>\n",
       "    <tr>\n",
       "      <th>7</th>\n",
       "      <td>45000-54999</td>\n",
       "      <td>0.042683</td>\n",
       "      <td>0.084538</td>\n",
       "      <td>0.094752</td>\n",
       "      <td>0.090094</td>\n",
       "      <td>0.083231</td>\n",
       "    </tr>\n",
       "    <tr>\n",
       "      <th>8</th>\n",
       "      <td>55000-64999</td>\n",
       "      <td>0.042683</td>\n",
       "      <td>0.060067</td>\n",
       "      <td>0.084184</td>\n",
       "      <td>0.067891</td>\n",
       "      <td>0.053856</td>\n",
       "    </tr>\n",
       "    <tr>\n",
       "      <th>9</th>\n",
       "      <td>65000-74999</td>\n",
       "      <td>0.036585</td>\n",
       "      <td>0.047831</td>\n",
       "      <td>0.074344</td>\n",
       "      <td>0.053800</td>\n",
       "      <td>0.048960</td>\n",
       "    </tr>\n",
       "    <tr>\n",
       "      <th>10</th>\n",
       "      <td>75000-99999</td>\n",
       "      <td>0.067073</td>\n",
       "      <td>0.075640</td>\n",
       "      <td>0.112245</td>\n",
       "      <td>0.142186</td>\n",
       "      <td>0.145655</td>\n",
       "    </tr>\n",
       "    <tr>\n",
       "      <th>11</th>\n",
       "      <td>more 99999</td>\n",
       "      <td>0.085366</td>\n",
       "      <td>0.126808</td>\n",
       "      <td>0.198251</td>\n",
       "      <td>0.317250</td>\n",
       "      <td>0.386781</td>\n",
       "    </tr>\n",
       "  </tbody>\n",
       "</table>\n",
       "</div>"
      ],
      "text/plain": [
       "       HHIncome  poor_per  fair_per  good_per  vgood_per  excellent_per\n",
       "0        0-4999  0.060976  0.030033  0.013120   0.010675       0.012240\n",
       "1     5000-9999  0.067073  0.042269  0.025510   0.018787       0.006120\n",
       "2   10000-14999  0.115854  0.110122  0.058309   0.035013       0.050184\n",
       "3   15000-19999  0.134146  0.075640  0.060496   0.038856       0.034272\n",
       "4   20000-24999  0.097561  0.111235  0.056487   0.054227       0.041616\n",
       "5   25000-34999  0.128049  0.131257  0.115160   0.085397       0.061200\n",
       "6   35000-44999  0.121951  0.104561  0.107143   0.085824       0.075887\n",
       "7   45000-54999  0.042683  0.084538  0.094752   0.090094       0.083231\n",
       "8   55000-64999  0.042683  0.060067  0.084184   0.067891       0.053856\n",
       "9   65000-74999  0.036585  0.047831  0.074344   0.053800       0.048960\n",
       "10  75000-99999  0.067073  0.075640  0.112245   0.142186       0.145655\n",
       "11   more 99999  0.085366  0.126808  0.198251   0.317250       0.386781"
      ]
     },
     "execution_count": 120,
     "metadata": {},
     "output_type": "execute_result"
    }
   ],
   "source": [
    "#Read the new CSV file and drop NANs in the income column\n",
    "income_health = pd.read_csv('Income_Health_Table.csv')\n",
    "income_health = income_health.dropna(subset=['HHIncome'])\n",
    "income_health"
   ]
  },
  {
   "cell_type": "markdown",
   "metadata": {},
   "source": [
    "## Health and Poverty (Regression)"
   ]
  },
  {
   "cell_type": "code",
   "execution_count": 121,
   "metadata": {},
   "outputs": [],
   "source": [
    "#Create new dataframe dropping the NANs from the DaysPhysHlthBad, DaysMentHlthBad,\n",
    "#Income, and Povety columns\n",
    "health_df = NHANES.dropna(subset=['DaysPhysHlthBad', 'DaysMentHlthBad', 'HHIncomeMid', 'Poverty'])"
   ]
  },
  {
   "cell_type": "code",
   "execution_count": 140,
   "metadata": {},
   "outputs": [],
   "source": [
    "#Separating results by race and age\n",
    "white = health_df['Race3'] == 'White'\n",
    "black = health_df['Race3'] == 'Black'\n",
    "adult = health_df['Age'] >= 20"
   ]
  },
  {
   "cell_type": "code",
   "execution_count": 47,
   "metadata": {},
   "outputs": [],
   "source": [
    "#New dataframes based on race and age criteria\n",
    "white_health = health_df[white & adult]\n",
    "black_health = health_df[black & adult]"
   ]
  },
  {
   "cell_type": "code",
   "execution_count": 139,
   "metadata": {},
   "outputs": [],
   "source": [
    "##Mental Health and Poverty Status"
   ]
  },
  {
   "cell_type": "code",
   "execution_count": 122,
   "metadata": {},
   "outputs": [
    {
     "name": "stdout",
     "output_type": "stream",
     "text": [
      "Correlation coefficient: -0.20045871829151185\n",
      "p-value: 2.2313920228515234e-20\n"
     ]
    }
   ],
   "source": [
    "#Mental Health and Poverty for White Adults- finding the correlation coefficient and p-value\n",
    "from scipy import stats\n",
    "corr = stats.pearsonr(white_health['DaysMentHlthBad'], white_health['Poverty'])\n",
    "print('Correlation coefficient:', corr[0])\n",
    "print('p-value:', corr[1])"
   ]
  },
  {
   "cell_type": "code",
   "execution_count": null,
   "metadata": {},
   "outputs": [],
   "source": [
    "#Statistically significant; weak negative relationship"
   ]
  },
  {
   "cell_type": "code",
   "execution_count": 124,
   "metadata": {},
   "outputs": [
    {
     "data": {
      "text/html": [
       "<table class=\"simpletable\">\n",
       "<caption>OLS Regression Results</caption>\n",
       "<tr>\n",
       "  <th>Dep. Variable:</th>         <td>Poverty</td>     <th>  R-squared:         </th> <td>   0.040</td>\n",
       "</tr>\n",
       "<tr>\n",
       "  <th>Model:</th>                   <td>OLS</td>       <th>  Adj. R-squared:    </th> <td>   0.040</td>\n",
       "</tr>\n",
       "<tr>\n",
       "  <th>Method:</th>             <td>Least Squares</td>  <th>  F-statistic:       </th> <td>   87.37</td>\n",
       "</tr>\n",
       "<tr>\n",
       "  <th>Date:</th>             <td>Thu, 17 Dec 2020</td> <th>  Prob (F-statistic):</th> <td>2.23e-20</td>\n",
       "</tr>\n",
       "<tr>\n",
       "  <th>Time:</th>                 <td>11:21:04</td>     <th>  Log-Likelihood:    </th> <td> -3923.7</td>\n",
       "</tr>\n",
       "<tr>\n",
       "  <th>No. Observations:</th>      <td>  2089</td>      <th>  AIC:               </th> <td>   7851.</td>\n",
       "</tr>\n",
       "<tr>\n",
       "  <th>Df Residuals:</th>          <td>  2087</td>      <th>  BIC:               </th> <td>   7863.</td>\n",
       "</tr>\n",
       "<tr>\n",
       "  <th>Df Model:</th>              <td>     1</td>      <th>                     </th>     <td> </td>   \n",
       "</tr>\n",
       "<tr>\n",
       "  <th>Covariance Type:</th>      <td>nonrobust</td>    <th>                     </th>     <td> </td>   \n",
       "</tr>\n",
       "</table>\n",
       "<table class=\"simpletable\">\n",
       "<tr>\n",
       "    <td></td>       <th>coef</th>     <th>std err</th>      <th>t</th>      <th>P>|t|</th>  <th>[0.025</th>    <th>0.975]</th>  \n",
       "</tr>\n",
       "<tr>\n",
       "  <th>const</th> <td>    3.3493</td> <td>    0.039</td> <td>   85.887</td> <td> 0.000</td> <td>    3.273</td> <td>    3.426</td>\n",
       "</tr>\n",
       "<tr>\n",
       "  <th>x1</th>    <td>   -0.0423</td> <td>    0.005</td> <td>   -9.347</td> <td> 0.000</td> <td>   -0.051</td> <td>   -0.033</td>\n",
       "</tr>\n",
       "</table>\n",
       "<table class=\"simpletable\">\n",
       "<tr>\n",
       "  <th>Omnibus:</th>       <td>4724.783</td> <th>  Durbin-Watson:     </th> <td>   1.045</td>\n",
       "</tr>\n",
       "<tr>\n",
       "  <th>Prob(Omnibus):</th>  <td> 0.000</td>  <th>  Jarque-Bera (JB):  </th> <td> 160.865</td>\n",
       "</tr>\n",
       "<tr>\n",
       "  <th>Skew:</th>           <td>-0.217</td>  <th>  Prob(JB):          </th> <td>1.17e-35</td>\n",
       "</tr>\n",
       "<tr>\n",
       "  <th>Kurtosis:</th>       <td> 1.712</td>  <th>  Cond. No.          </th> <td>    9.73</td>\n",
       "</tr>\n",
       "</table><br/><br/>Warnings:<br/>[1] Standard Errors assume that the covariance matrix of the errors is correctly specified."
      ],
      "text/plain": [
       "<class 'statsmodels.iolib.summary.Summary'>\n",
       "\"\"\"\n",
       "                            OLS Regression Results                            \n",
       "==============================================================================\n",
       "Dep. Variable:                Poverty   R-squared:                       0.040\n",
       "Model:                            OLS   Adj. R-squared:                  0.040\n",
       "Method:                 Least Squares   F-statistic:                     87.37\n",
       "Date:                Thu, 17 Dec 2020   Prob (F-statistic):           2.23e-20\n",
       "Time:                        11:21:04   Log-Likelihood:                -3923.7\n",
       "No. Observations:                2089   AIC:                             7851.\n",
       "Df Residuals:                    2087   BIC:                             7863.\n",
       "Df Model:                           1                                         \n",
       "Covariance Type:            nonrobust                                         \n",
       "==============================================================================\n",
       "                 coef    std err          t      P>|t|      [0.025      0.975]\n",
       "------------------------------------------------------------------------------\n",
       "const          3.3493      0.039     85.887      0.000       3.273       3.426\n",
       "x1            -0.0423      0.005     -9.347      0.000      -0.051      -0.033\n",
       "==============================================================================\n",
       "Omnibus:                     4724.783   Durbin-Watson:                   1.045\n",
       "Prob(Omnibus):                  0.000   Jarque-Bera (JB):              160.865\n",
       "Skew:                          -0.217   Prob(JB):                     1.17e-35\n",
       "Kurtosis:                       1.712   Cond. No.                         9.73\n",
       "==============================================================================\n",
       "\n",
       "Warnings:\n",
       "[1] Standard Errors assume that the covariance matrix of the errors is correctly specified.\n",
       "\"\"\""
      ]
     },
     "metadata": {},
     "output_type": "display_data"
    }
   ],
   "source": [
    "#Get results from linear regression for the relationship between mental health status and poverty for white adults\n",
    "from statsmodels.regression.linear_model import OLS\n",
    "import statsmodels.api as sm\n",
    "\n",
    "x_vals = white_health['DaysMentHlthBad'].values\n",
    "y_vals = white_health['Poverty']\n",
    "\n",
    "reg_model = OLS(y_vals, sm.add_constant(x_vals)).fit()\n",
    "display(reg_model.summary())"
   ]
  },
  {
   "cell_type": "code",
   "execution_count": 127,
   "metadata": {},
   "outputs": [
    {
     "name": "stdout",
     "output_type": "stream",
     "text": [
      "Correlation coefficient: -0.07398694625117765\n",
      "p-value: 0.20589216320113551\n"
     ]
    }
   ],
   "source": [
    "#Mental Health and Poverty for Black Adults- finding correlation coefficient and p-value\n",
    "from scipy import stats\n",
    "corr = stats.pearsonr(black_health['DaysMentHlthBad'], black_health['Poverty'])\n",
    "print('Correlation coefficient:', corr[0])\n",
    "print('p-value:', corr[1])"
   ]
  },
  {
   "cell_type": "code",
   "execution_count": 128,
   "metadata": {},
   "outputs": [],
   "source": [
    "#Not statistically significant; weak negative relationship"
   ]
  },
  {
   "cell_type": "code",
   "execution_count": 125,
   "metadata": {},
   "outputs": [
    {
     "data": {
      "text/html": [
       "<table class=\"simpletable\">\n",
       "<caption>OLS Regression Results</caption>\n",
       "<tr>\n",
       "  <th>Dep. Variable:</th>         <td>Poverty</td>     <th>  R-squared:         </th> <td>   0.005</td>\n",
       "</tr>\n",
       "<tr>\n",
       "  <th>Model:</th>                   <td>OLS</td>       <th>  Adj. R-squared:    </th> <td>   0.002</td>\n",
       "</tr>\n",
       "<tr>\n",
       "  <th>Method:</th>             <td>Least Squares</td>  <th>  F-statistic:       </th> <td>   1.607</td>\n",
       "</tr>\n",
       "<tr>\n",
       "  <th>Date:</th>             <td>Thu, 17 Dec 2020</td> <th>  Prob (F-statistic):</th>  <td> 0.206</td> \n",
       "</tr>\n",
       "<tr>\n",
       "  <th>Time:</th>                 <td>11:21:17</td>     <th>  Log-Likelihood:    </th> <td> -561.36</td>\n",
       "</tr>\n",
       "<tr>\n",
       "  <th>No. Observations:</th>      <td>   294</td>      <th>  AIC:               </th> <td>   1127.</td>\n",
       "</tr>\n",
       "<tr>\n",
       "  <th>Df Residuals:</th>          <td>   292</td>      <th>  BIC:               </th> <td>   1134.</td>\n",
       "</tr>\n",
       "<tr>\n",
       "  <th>Df Model:</th>              <td>     1</td>      <th>                     </th>     <td> </td>   \n",
       "</tr>\n",
       "<tr>\n",
       "  <th>Covariance Type:</th>      <td>nonrobust</td>    <th>                     </th>     <td> </td>   \n",
       "</tr>\n",
       "</table>\n",
       "<table class=\"simpletable\">\n",
       "<tr>\n",
       "    <td></td>       <th>coef</th>     <th>std err</th>      <th>t</th>      <th>P>|t|</th>  <th>[0.025</th>    <th>0.975]</th>  \n",
       "</tr>\n",
       "<tr>\n",
       "  <th>const</th> <td>    2.5075</td> <td>    0.105</td> <td>   23.868</td> <td> 0.000</td> <td>    2.301</td> <td>    2.714</td>\n",
       "</tr>\n",
       "<tr>\n",
       "  <th>x1</th>    <td>   -0.0164</td> <td>    0.013</td> <td>   -1.268</td> <td> 0.206</td> <td>   -0.042</td> <td>    0.009</td>\n",
       "</tr>\n",
       "</table>\n",
       "<table class=\"simpletable\">\n",
       "<tr>\n",
       "  <th>Omnibus:</th>       <td>263.628</td> <th>  Durbin-Watson:     </th> <td>   1.787</td>\n",
       "</tr>\n",
       "<tr>\n",
       "  <th>Prob(Omnibus):</th> <td> 0.000</td>  <th>  Jarque-Bera (JB):  </th> <td>  24.424</td>\n",
       "</tr>\n",
       "<tr>\n",
       "  <th>Skew:</th>          <td> 0.307</td>  <th>  Prob(JB):          </th> <td>4.97e-06</td>\n",
       "</tr>\n",
       "<tr>\n",
       "  <th>Kurtosis:</th>      <td> 1.729</td>  <th>  Cond. No.          </th> <td>    8.94</td>\n",
       "</tr>\n",
       "</table><br/><br/>Warnings:<br/>[1] Standard Errors assume that the covariance matrix of the errors is correctly specified."
      ],
      "text/plain": [
       "<class 'statsmodels.iolib.summary.Summary'>\n",
       "\"\"\"\n",
       "                            OLS Regression Results                            \n",
       "==============================================================================\n",
       "Dep. Variable:                Poverty   R-squared:                       0.005\n",
       "Model:                            OLS   Adj. R-squared:                  0.002\n",
       "Method:                 Least Squares   F-statistic:                     1.607\n",
       "Date:                Thu, 17 Dec 2020   Prob (F-statistic):              0.206\n",
       "Time:                        11:21:17   Log-Likelihood:                -561.36\n",
       "No. Observations:                 294   AIC:                             1127.\n",
       "Df Residuals:                     292   BIC:                             1134.\n",
       "Df Model:                           1                                         \n",
       "Covariance Type:            nonrobust                                         \n",
       "==============================================================================\n",
       "                 coef    std err          t      P>|t|      [0.025      0.975]\n",
       "------------------------------------------------------------------------------\n",
       "const          2.5075      0.105     23.868      0.000       2.301       2.714\n",
       "x1            -0.0164      0.013     -1.268      0.206      -0.042       0.009\n",
       "==============================================================================\n",
       "Omnibus:                      263.628   Durbin-Watson:                   1.787\n",
       "Prob(Omnibus):                  0.000   Jarque-Bera (JB):               24.424\n",
       "Skew:                           0.307   Prob(JB):                     4.97e-06\n",
       "Kurtosis:                       1.729   Cond. No.                         8.94\n",
       "==============================================================================\n",
       "\n",
       "Warnings:\n",
       "[1] Standard Errors assume that the covariance matrix of the errors is correctly specified.\n",
       "\"\"\""
      ]
     },
     "metadata": {},
     "output_type": "display_data"
    }
   ],
   "source": [
    "#Get results from linear regression for the relationship between mental health status and poverty for black adults\n",
    "from statsmodels.regression.linear_model import OLS\n",
    "import statsmodels.api as sm\n",
    "\n",
    "x_vals_1 = black_health['DaysMentHlthBad'].values\n",
    "y_vals_1 = black_health['Poverty']\n",
    "\n",
    "reg_model_1 = OLS(y_vals_1, sm.add_constant(x_vals_1)).fit()\n",
    "display(reg_model_1.summary())"
   ]
  },
  {
   "cell_type": "code",
   "execution_count": 66,
   "metadata": {},
   "outputs": [],
   "source": [
    "##Physical Health and Poverty Status"
   ]
  },
  {
   "cell_type": "code",
   "execution_count": 129,
   "metadata": {},
   "outputs": [
    {
     "name": "stdout",
     "output_type": "stream",
     "text": [
      "Correlation coefficient: -0.1382710018375192\n",
      "p-value: 2.202969267106892e-10\n"
     ]
    }
   ],
   "source": [
    "#Physical Health and Poverty for White Adults- finding the correlation coefficient and p-value\n",
    "corr = stats.pearsonr(white_health['DaysPhysHlthBad'], white_health['Poverty'])\n",
    "print('Correlation coefficient:', corr[0])\n",
    "print('p-value:', corr[1])"
   ]
  },
  {
   "cell_type": "code",
   "execution_count": 130,
   "metadata": {},
   "outputs": [],
   "source": [
    "#Statistically significant; weak negative relationship"
   ]
  },
  {
   "cell_type": "code",
   "execution_count": 137,
   "metadata": {},
   "outputs": [
    {
     "data": {
      "text/html": [
       "<table class=\"simpletable\">\n",
       "<caption>OLS Regression Results</caption>\n",
       "<tr>\n",
       "  <th>Dep. Variable:</th>         <td>Poverty</td>     <th>  R-squared:         </th> <td>   0.019</td>\n",
       "</tr>\n",
       "<tr>\n",
       "  <th>Model:</th>                   <td>OLS</td>       <th>  Adj. R-squared:    </th> <td>   0.019</td>\n",
       "</tr>\n",
       "<tr>\n",
       "  <th>Method:</th>             <td>Least Squares</td>  <th>  F-statistic:       </th> <td>   40.68</td>\n",
       "</tr>\n",
       "<tr>\n",
       "  <th>Date:</th>             <td>Thu, 17 Dec 2020</td> <th>  Prob (F-statistic):</th> <td>2.20e-10</td>\n",
       "</tr>\n",
       "<tr>\n",
       "  <th>Time:</th>                 <td>11:25:52</td>     <th>  Log-Likelihood:    </th> <td> -3946.4</td>\n",
       "</tr>\n",
       "<tr>\n",
       "  <th>No. Observations:</th>      <td>  2089</td>      <th>  AIC:               </th> <td>   7897.</td>\n",
       "</tr>\n",
       "<tr>\n",
       "  <th>Df Residuals:</th>          <td>  2087</td>      <th>  BIC:               </th> <td>   7908.</td>\n",
       "</tr>\n",
       "<tr>\n",
       "  <th>Df Model:</th>              <td>     1</td>      <th>                     </th>     <td> </td>   \n",
       "</tr>\n",
       "<tr>\n",
       "  <th>Covariance Type:</th>      <td>nonrobust</td>    <th>                     </th>     <td> </td>   \n",
       "</tr>\n",
       "</table>\n",
       "<table class=\"simpletable\">\n",
       "<tr>\n",
       "    <td></td>       <th>coef</th>     <th>std err</th>      <th>t</th>      <th>P>|t|</th>  <th>[0.025</th>    <th>0.975]</th>  \n",
       "</tr>\n",
       "<tr>\n",
       "  <th>const</th> <td>    3.2795</td> <td>    0.038</td> <td>   85.822</td> <td> 0.000</td> <td>    3.205</td> <td>    3.354</td>\n",
       "</tr>\n",
       "<tr>\n",
       "  <th>x1</th>    <td>   -0.0318</td> <td>    0.005</td> <td>   -6.378</td> <td> 0.000</td> <td>   -0.042</td> <td>   -0.022</td>\n",
       "</tr>\n",
       "</table>\n",
       "<table class=\"simpletable\">\n",
       "<tr>\n",
       "  <th>Omnibus:</th>       <td>78020.639</td> <th>  Durbin-Watson:     </th> <td>   1.036</td>\n",
       "</tr>\n",
       "<tr>\n",
       "  <th>Prob(Omnibus):</th>  <td> 0.000</td>   <th>  Jarque-Bera (JB):  </th> <td> 181.820</td>\n",
       "</tr>\n",
       "<tr>\n",
       "  <th>Skew:</th>           <td>-0.252</td>   <th>  Prob(JB):          </th> <td>3.30e-40</td>\n",
       "</tr>\n",
       "<tr>\n",
       "  <th>Kurtosis:</th>       <td> 1.646</td>   <th>  Cond. No.          </th> <td>    8.37</td>\n",
       "</tr>\n",
       "</table><br/><br/>Warnings:<br/>[1] Standard Errors assume that the covariance matrix of the errors is correctly specified."
      ],
      "text/plain": [
       "<class 'statsmodels.iolib.summary.Summary'>\n",
       "\"\"\"\n",
       "                            OLS Regression Results                            \n",
       "==============================================================================\n",
       "Dep. Variable:                Poverty   R-squared:                       0.019\n",
       "Model:                            OLS   Adj. R-squared:                  0.019\n",
       "Method:                 Least Squares   F-statistic:                     40.68\n",
       "Date:                Thu, 17 Dec 2020   Prob (F-statistic):           2.20e-10\n",
       "Time:                        11:25:52   Log-Likelihood:                -3946.4\n",
       "No. Observations:                2089   AIC:                             7897.\n",
       "Df Residuals:                    2087   BIC:                             7908.\n",
       "Df Model:                           1                                         \n",
       "Covariance Type:            nonrobust                                         \n",
       "==============================================================================\n",
       "                 coef    std err          t      P>|t|      [0.025      0.975]\n",
       "------------------------------------------------------------------------------\n",
       "const          3.2795      0.038     85.822      0.000       3.205       3.354\n",
       "x1            -0.0318      0.005     -6.378      0.000      -0.042      -0.022\n",
       "==============================================================================\n",
       "Omnibus:                    78020.639   Durbin-Watson:                   1.036\n",
       "Prob(Omnibus):                  0.000   Jarque-Bera (JB):              181.820\n",
       "Skew:                          -0.252   Prob(JB):                     3.30e-40\n",
       "Kurtosis:                       1.646   Cond. No.                         8.37\n",
       "==============================================================================\n",
       "\n",
       "Warnings:\n",
       "[1] Standard Errors assume that the covariance matrix of the errors is correctly specified.\n",
       "\"\"\""
      ]
     },
     "metadata": {},
     "output_type": "display_data"
    }
   ],
   "source": [
    "#Get results from linear regression for the relationship between physical health status and poverty for white adults\n",
    "x_vals_2 = white_health['DaysPhysHlthBad'].values\n",
    "y_vals_2 = white_health['Poverty']\n",
    "\n",
    "reg_model_2 = OLS(y_vals_2, sm.add_constant(x_vals_2)).fit()\n",
    "display(reg_model_2.summary())"
   ]
  },
  {
   "cell_type": "code",
   "execution_count": 135,
   "metadata": {},
   "outputs": [
    {
     "name": "stdout",
     "output_type": "stream",
     "text": [
      "Correlation coefficient: -0.08920200272505899\n",
      "p-value: 0.12700398719771783\n"
     ]
    }
   ],
   "source": [
    "#Physical Health and Poverty for Black Adults- finding correlation coefficient and p-value\n",
    "from scipy import stats\n",
    "corr = stats.pearsonr(black_health['DaysPhysHlthBad'], black_health['Poverty'])\n",
    "print('Correlation coefficient:', corr[0])\n",
    "print('p-value:', corr[1])"
   ]
  },
  {
   "cell_type": "code",
   "execution_count": 136,
   "metadata": {},
   "outputs": [],
   "source": [
    "#Not statistically significant; weak negative relationship"
   ]
  },
  {
   "cell_type": "code",
   "execution_count": 138,
   "metadata": {},
   "outputs": [
    {
     "data": {
      "text/html": [
       "<table class=\"simpletable\">\n",
       "<caption>OLS Regression Results</caption>\n",
       "<tr>\n",
       "  <th>Dep. Variable:</th>         <td>Poverty</td>     <th>  R-squared:         </th> <td>   0.008</td>\n",
       "</tr>\n",
       "<tr>\n",
       "  <th>Model:</th>                   <td>OLS</td>       <th>  Adj. R-squared:    </th> <td>   0.005</td>\n",
       "</tr>\n",
       "<tr>\n",
       "  <th>Method:</th>             <td>Least Squares</td>  <th>  F-statistic:       </th> <td>   2.342</td>\n",
       "</tr>\n",
       "<tr>\n",
       "  <th>Date:</th>             <td>Thu, 17 Dec 2020</td> <th>  Prob (F-statistic):</th>  <td> 0.127</td> \n",
       "</tr>\n",
       "<tr>\n",
       "  <th>Time:</th>                 <td>11:26:04</td>     <th>  Log-Likelihood:    </th> <td> -560.99</td>\n",
       "</tr>\n",
       "<tr>\n",
       "  <th>No. Observations:</th>      <td>   294</td>      <th>  AIC:               </th> <td>   1126.</td>\n",
       "</tr>\n",
       "<tr>\n",
       "  <th>Df Residuals:</th>          <td>   292</td>      <th>  BIC:               </th> <td>   1133.</td>\n",
       "</tr>\n",
       "<tr>\n",
       "  <th>Df Model:</th>              <td>     1</td>      <th>                     </th>     <td> </td>   \n",
       "</tr>\n",
       "<tr>\n",
       "  <th>Covariance Type:</th>      <td>nonrobust</td>    <th>                     </th>     <td> </td>   \n",
       "</tr>\n",
       "</table>\n",
       "<table class=\"simpletable\">\n",
       "<tr>\n",
       "    <td></td>       <th>coef</th>     <th>std err</th>      <th>t</th>      <th>P>|t|</th>  <th>[0.025</th>    <th>0.975]</th>  \n",
       "</tr>\n",
       "<tr>\n",
       "  <th>const</th> <td>    2.5164</td> <td>    0.104</td> <td>   24.136</td> <td> 0.000</td> <td>    2.311</td> <td>    2.722</td>\n",
       "</tr>\n",
       "<tr>\n",
       "  <th>x1</th>    <td>   -0.0184</td> <td>    0.012</td> <td>   -1.530</td> <td> 0.127</td> <td>   -0.042</td> <td>    0.005</td>\n",
       "</tr>\n",
       "</table>\n",
       "<table class=\"simpletable\">\n",
       "<tr>\n",
       "  <th>Omnibus:</th>       <td>255.002</td> <th>  Durbin-Watson:     </th> <td>   1.798</td>\n",
       "</tr>\n",
       "<tr>\n",
       "  <th>Prob(Omnibus):</th> <td> 0.000</td>  <th>  Jarque-Bera (JB):  </th> <td>  24.170</td>\n",
       "</tr>\n",
       "<tr>\n",
       "  <th>Skew:</th>          <td> 0.303</td>  <th>  Prob(JB):          </th> <td>5.64e-06</td>\n",
       "</tr>\n",
       "<tr>\n",
       "  <th>Kurtosis:</th>      <td> 1.733</td>  <th>  Cond. No.          </th> <td>    9.50</td>\n",
       "</tr>\n",
       "</table><br/><br/>Warnings:<br/>[1] Standard Errors assume that the covariance matrix of the errors is correctly specified."
      ],
      "text/plain": [
       "<class 'statsmodels.iolib.summary.Summary'>\n",
       "\"\"\"\n",
       "                            OLS Regression Results                            \n",
       "==============================================================================\n",
       "Dep. Variable:                Poverty   R-squared:                       0.008\n",
       "Model:                            OLS   Adj. R-squared:                  0.005\n",
       "Method:                 Least Squares   F-statistic:                     2.342\n",
       "Date:                Thu, 17 Dec 2020   Prob (F-statistic):              0.127\n",
       "Time:                        11:26:04   Log-Likelihood:                -560.99\n",
       "No. Observations:                 294   AIC:                             1126.\n",
       "Df Residuals:                     292   BIC:                             1133.\n",
       "Df Model:                           1                                         \n",
       "Covariance Type:            nonrobust                                         \n",
       "==============================================================================\n",
       "                 coef    std err          t      P>|t|      [0.025      0.975]\n",
       "------------------------------------------------------------------------------\n",
       "const          2.5164      0.104     24.136      0.000       2.311       2.722\n",
       "x1            -0.0184      0.012     -1.530      0.127      -0.042       0.005\n",
       "==============================================================================\n",
       "Omnibus:                      255.002   Durbin-Watson:                   1.798\n",
       "Prob(Omnibus):                  0.000   Jarque-Bera (JB):               24.170\n",
       "Skew:                           0.303   Prob(JB):                     5.64e-06\n",
       "Kurtosis:                       1.733   Cond. No.                         9.50\n",
       "==============================================================================\n",
       "\n",
       "Warnings:\n",
       "[1] Standard Errors assume that the covariance matrix of the errors is correctly specified.\n",
       "\"\"\""
      ]
     },
     "metadata": {},
     "output_type": "display_data"
    }
   ],
   "source": [
    "#Get results from linear regression for the relationship between physical health status and poverty for black adults\n",
    "x_vals_3 = black_health['DaysPhysHlthBad'].values\n",
    "y_vals_3 = black_health['Poverty']\n",
    "\n",
    "reg_model_3 = OLS(y_vals_3, sm.add_constant(x_vals_3)).fit()\n",
    "display(reg_model_3.summary())"
   ]
  },
  {
   "cell_type": "markdown",
   "metadata": {},
   "source": [
    "## Health and Income (Regression)"
   ]
  },
  {
   "cell_type": "code",
   "execution_count": 48,
   "metadata": {},
   "outputs": [
    {
     "data": {
      "text/html": [
       "<table class=\"simpletable\">\n",
       "<caption>OLS Regression Results</caption>\n",
       "<tr>\n",
       "  <th>Dep. Variable:</th>     <td>DaysMentHlthBad</td> <th>  R-squared:         </th> <td>   0.015</td> \n",
       "</tr>\n",
       "<tr>\n",
       "  <th>Model:</th>                   <td>OLS</td>       <th>  Adj. R-squared:    </th> <td>   0.014</td> \n",
       "</tr>\n",
       "<tr>\n",
       "  <th>Method:</th>             <td>Least Squares</td>  <th>  F-statistic:       </th> <td>   30.79</td> \n",
       "</tr>\n",
       "<tr>\n",
       "  <th>Date:</th>             <td>Thu, 17 Dec 2020</td> <th>  Prob (F-statistic):</th> <td>3.24e-08</td> \n",
       "</tr>\n",
       "<tr>\n",
       "  <th>Time:</th>                 <td>09:19:09</td>     <th>  Log-Likelihood:    </th> <td> -7201.2</td> \n",
       "</tr>\n",
       "<tr>\n",
       "  <th>No. Observations:</th>      <td>  2089</td>      <th>  AIC:               </th> <td>1.441e+04</td>\n",
       "</tr>\n",
       "<tr>\n",
       "  <th>Df Residuals:</th>          <td>  2087</td>      <th>  BIC:               </th> <td>1.442e+04</td>\n",
       "</tr>\n",
       "<tr>\n",
       "  <th>Df Model:</th>              <td>     1</td>      <th>                     </th>     <td> </td>    \n",
       "</tr>\n",
       "<tr>\n",
       "  <th>Covariance Type:</th>      <td>nonrobust</td>    <th>                     </th>     <td> </td>    \n",
       "</tr>\n",
       "</table>\n",
       "<table class=\"simpletable\">\n",
       "<tr>\n",
       "    <td></td>       <th>coef</th>     <th>std err</th>      <th>t</th>      <th>P>|t|</th>  <th>[0.025</th>    <th>0.975]</th>  \n",
       "</tr>\n",
       "<tr>\n",
       "  <th>const</th> <td>    5.7009</td> <td>    0.356</td> <td>   16.003</td> <td> 0.000</td> <td>    5.002</td> <td>    6.399</td>\n",
       "</tr>\n",
       "<tr>\n",
       "  <th>x1</th>    <td>-2.815e-05</td> <td> 5.07e-06</td> <td>   -5.549</td> <td> 0.000</td> <td>-3.81e-05</td> <td>-1.82e-05</td>\n",
       "</tr>\n",
       "</table>\n",
       "<table class=\"simpletable\">\n",
       "<tr>\n",
       "  <th>Omnibus:</th>       <td>951.519</td> <th>  Durbin-Watson:     </th> <td>   1.110</td>\n",
       "</tr>\n",
       "<tr>\n",
       "  <th>Prob(Omnibus):</th> <td> 0.000</td>  <th>  Jarque-Bera (JB):  </th> <td>3681.158</td>\n",
       "</tr>\n",
       "<tr>\n",
       "  <th>Skew:</th>          <td> 2.312</td>  <th>  Prob(JB):          </th> <td>    0.00</td>\n",
       "</tr>\n",
       "<tr>\n",
       "  <th>Kurtosis:</th>      <td> 7.572</td>  <th>  Cond. No.          </th> <td>1.50e+05</td>\n",
       "</tr>\n",
       "</table><br/><br/>Warnings:<br/>[1] Standard Errors assume that the covariance matrix of the errors is correctly specified.<br/>[2] The condition number is large, 1.5e+05. This might indicate that there are<br/>strong multicollinearity or other numerical problems."
      ],
      "text/plain": [
       "<class 'statsmodels.iolib.summary.Summary'>\n",
       "\"\"\"\n",
       "                            OLS Regression Results                            \n",
       "==============================================================================\n",
       "Dep. Variable:        DaysMentHlthBad   R-squared:                       0.015\n",
       "Model:                            OLS   Adj. R-squared:                  0.014\n",
       "Method:                 Least Squares   F-statistic:                     30.79\n",
       "Date:                Thu, 17 Dec 2020   Prob (F-statistic):           3.24e-08\n",
       "Time:                        09:19:09   Log-Likelihood:                -7201.2\n",
       "No. Observations:                2089   AIC:                         1.441e+04\n",
       "Df Residuals:                    2087   BIC:                         1.442e+04\n",
       "Df Model:                           1                                         \n",
       "Covariance Type:            nonrobust                                         \n",
       "==============================================================================\n",
       "                 coef    std err          t      P>|t|      [0.025      0.975]\n",
       "------------------------------------------------------------------------------\n",
       "const          5.7009      0.356     16.003      0.000       5.002       6.399\n",
       "x1         -2.815e-05   5.07e-06     -5.549      0.000   -3.81e-05   -1.82e-05\n",
       "==============================================================================\n",
       "Omnibus:                      951.519   Durbin-Watson:                   1.110\n",
       "Prob(Omnibus):                  0.000   Jarque-Bera (JB):             3681.158\n",
       "Skew:                           2.312   Prob(JB):                         0.00\n",
       "Kurtosis:                       7.572   Cond. No.                     1.50e+05\n",
       "==============================================================================\n",
       "\n",
       "Warnings:\n",
       "[1] Standard Errors assume that the covariance matrix of the errors is correctly specified.\n",
       "[2] The condition number is large, 1.5e+05. This might indicate that there are\n",
       "strong multicollinearity or other numerical problems.\n",
       "\"\"\""
      ]
     },
     "metadata": {},
     "output_type": "display_data"
    }
   ],
   "source": [
    "#Get results from linear regression for the relationship between mental health status and income for white adults\n",
    "from statsmodels.regression.linear_model import OLS\n",
    "import statsmodels.api as sm\n",
    "\n",
    "x_vals_4 = white_health['HHIncomeMid'].values\n",
    "y_vals_4 = white_health['DaysMentHlthBad']\n",
    "\n",
    "reg_model_4 = OLS(y_vals_4, sm.add_constant(x_vals_4)).fit()\n",
    "display(reg_model_4.summary())"
   ]
  },
  {
   "cell_type": "code",
   "execution_count": 132,
   "metadata": {},
   "outputs": [
    {
     "data": {
      "text/html": [
       "<table class=\"simpletable\">\n",
       "<caption>OLS Regression Results</caption>\n",
       "<tr>\n",
       "  <th>Dep. Variable:</th>     <td>DaysMentHlthBad</td> <th>  R-squared:         </th> <td>   0.010</td>\n",
       "</tr>\n",
       "<tr>\n",
       "  <th>Model:</th>                   <td>OLS</td>       <th>  Adj. R-squared:    </th> <td>   0.006</td>\n",
       "</tr>\n",
       "<tr>\n",
       "  <th>Method:</th>             <td>Least Squares</td>  <th>  F-statistic:       </th> <td>   2.845</td>\n",
       "</tr>\n",
       "<tr>\n",
       "  <th>Date:</th>             <td>Thu, 17 Dec 2020</td> <th>  Prob (F-statistic):</th>  <td>0.0927</td> \n",
       "</tr>\n",
       "<tr>\n",
       "  <th>Time:</th>                 <td>11:23:47</td>     <th>  Log-Likelihood:    </th> <td> -1003.1</td>\n",
       "</tr>\n",
       "<tr>\n",
       "  <th>No. Observations:</th>      <td>   294</td>      <th>  AIC:               </th> <td>   2010.</td>\n",
       "</tr>\n",
       "<tr>\n",
       "  <th>Df Residuals:</th>          <td>   292</td>      <th>  BIC:               </th> <td>   2018.</td>\n",
       "</tr>\n",
       "<tr>\n",
       "  <th>Df Model:</th>              <td>     1</td>      <th>                     </th>     <td> </td>   \n",
       "</tr>\n",
       "<tr>\n",
       "  <th>Covariance Type:</th>      <td>nonrobust</td>    <th>                     </th>     <td> </td>   \n",
       "</tr>\n",
       "</table>\n",
       "<table class=\"simpletable\">\n",
       "<tr>\n",
       "    <td></td>       <th>coef</th>     <th>std err</th>      <th>t</th>      <th>P>|t|</th>  <th>[0.025</th>    <th>0.975]</th>  \n",
       "</tr>\n",
       "<tr>\n",
       "  <th>const</th> <td>    4.4249</td> <td>    0.760</td> <td>    5.823</td> <td> 0.000</td> <td>    2.929</td> <td>    5.920</td>\n",
       "</tr>\n",
       "<tr>\n",
       "  <th>x1</th>    <td>-2.211e-05</td> <td> 1.31e-05</td> <td>   -1.687</td> <td> 0.093</td> <td>-4.79e-05</td> <td> 3.69e-06</td>\n",
       "</tr>\n",
       "</table>\n",
       "<table class=\"simpletable\">\n",
       "<tr>\n",
       "  <th>Omnibus:</th>       <td>172.625</td> <th>  Durbin-Watson:     </th> <td>   1.618</td> \n",
       "</tr>\n",
       "<tr>\n",
       "  <th>Prob(Omnibus):</th> <td> 0.000</td>  <th>  Jarque-Bera (JB):  </th> <td> 788.009</td> \n",
       "</tr>\n",
       "<tr>\n",
       "  <th>Skew:</th>          <td> 2.629</td>  <th>  Prob(JB):          </th> <td>7.69e-172</td>\n",
       "</tr>\n",
       "<tr>\n",
       "  <th>Kurtosis:</th>      <td> 9.056</td>  <th>  Cond. No.          </th> <td>1.03e+05</td> \n",
       "</tr>\n",
       "</table><br/><br/>Warnings:<br/>[1] Standard Errors assume that the covariance matrix of the errors is correctly specified.<br/>[2] The condition number is large, 1.03e+05. This might indicate that there are<br/>strong multicollinearity or other numerical problems."
      ],
      "text/plain": [
       "<class 'statsmodels.iolib.summary.Summary'>\n",
       "\"\"\"\n",
       "                            OLS Regression Results                            \n",
       "==============================================================================\n",
       "Dep. Variable:        DaysMentHlthBad   R-squared:                       0.010\n",
       "Model:                            OLS   Adj. R-squared:                  0.006\n",
       "Method:                 Least Squares   F-statistic:                     2.845\n",
       "Date:                Thu, 17 Dec 2020   Prob (F-statistic):             0.0927\n",
       "Time:                        11:23:47   Log-Likelihood:                -1003.1\n",
       "No. Observations:                 294   AIC:                             2010.\n",
       "Df Residuals:                     292   BIC:                             2018.\n",
       "Df Model:                           1                                         \n",
       "Covariance Type:            nonrobust                                         \n",
       "==============================================================================\n",
       "                 coef    std err          t      P>|t|      [0.025      0.975]\n",
       "------------------------------------------------------------------------------\n",
       "const          4.4249      0.760      5.823      0.000       2.929       5.920\n",
       "x1         -2.211e-05   1.31e-05     -1.687      0.093   -4.79e-05    3.69e-06\n",
       "==============================================================================\n",
       "Omnibus:                      172.625   Durbin-Watson:                   1.618\n",
       "Prob(Omnibus):                  0.000   Jarque-Bera (JB):              788.009\n",
       "Skew:                           2.629   Prob(JB):                    7.69e-172\n",
       "Kurtosis:                       9.056   Cond. No.                     1.03e+05\n",
       "==============================================================================\n",
       "\n",
       "Warnings:\n",
       "[1] Standard Errors assume that the covariance matrix of the errors is correctly specified.\n",
       "[2] The condition number is large, 1.03e+05. This might indicate that there are\n",
       "strong multicollinearity or other numerical problems.\n",
       "\"\"\""
      ]
     },
     "metadata": {},
     "output_type": "display_data"
    }
   ],
   "source": [
    "#Get results from linear regression for the relationship between mental health status and income for black adults\n",
    "from statsmodels.regression.linear_model import OLS\n",
    "import statsmodels.api as sm\n",
    "\n",
    "x_vals_5 = black_health['HHIncomeMid'].values\n",
    "y_vals_5 = black_health['DaysMentHlthBad']\n",
    "\n",
    "reg_model_5 = OLS(y_vals_5, sm.add_constant(x_vals_5)).fit()\n",
    "display(reg_model_5.summary())"
   ]
  },
  {
   "cell_type": "code",
   "execution_count": 133,
   "metadata": {
    "scrolled": true
   },
   "outputs": [
    {
     "data": {
      "text/html": [
       "<table class=\"simpletable\">\n",
       "<caption>OLS Regression Results</caption>\n",
       "<tr>\n",
       "  <th>Dep. Variable:</th>     <td>DaysPhysHlthBad</td> <th>  R-squared:         </th> <td>   0.026</td> \n",
       "</tr>\n",
       "<tr>\n",
       "  <th>Model:</th>                   <td>OLS</td>       <th>  Adj. R-squared:    </th> <td>   0.025</td> \n",
       "</tr>\n",
       "<tr>\n",
       "  <th>Method:</th>             <td>Least Squares</td>  <th>  F-statistic:       </th> <td>   54.74</td> \n",
       "</tr>\n",
       "<tr>\n",
       "  <th>Date:</th>             <td>Thu, 17 Dec 2020</td> <th>  Prob (F-statistic):</th> <td>1.99e-13</td> \n",
       "</tr>\n",
       "<tr>\n",
       "  <th>Time:</th>                 <td>11:23:59</td>     <th>  Log-Likelihood:    </th> <td> -7007.5</td> \n",
       "</tr>\n",
       "<tr>\n",
       "  <th>No. Observations:</th>      <td>  2089</td>      <th>  AIC:               </th> <td>1.402e+04</td>\n",
       "</tr>\n",
       "<tr>\n",
       "  <th>Df Residuals:</th>          <td>  2087</td>      <th>  BIC:               </th> <td>1.403e+04</td>\n",
       "</tr>\n",
       "<tr>\n",
       "  <th>Df Model:</th>              <td>     1</td>      <th>                     </th>     <td> </td>    \n",
       "</tr>\n",
       "<tr>\n",
       "  <th>Covariance Type:</th>      <td>nonrobust</td>    <th>                     </th>     <td> </td>    \n",
       "</tr>\n",
       "</table>\n",
       "<table class=\"simpletable\">\n",
       "<tr>\n",
       "    <td></td>       <th>coef</th>     <th>std err</th>      <th>t</th>      <th>P>|t|</th>  <th>[0.025</th>    <th>0.975]</th>  \n",
       "</tr>\n",
       "<tr>\n",
       "  <th>const</th> <td>    5.1834</td> <td>    0.325</td> <td>   15.964</td> <td> 0.000</td> <td>    4.547</td> <td>    5.820</td>\n",
       "</tr>\n",
       "<tr>\n",
       "  <th>x1</th>    <td>-3.421e-05</td> <td> 4.62e-06</td> <td>   -7.398</td> <td> 0.000</td> <td>-4.33e-05</td> <td>-2.51e-05</td>\n",
       "</tr>\n",
       "</table>\n",
       "<table class=\"simpletable\">\n",
       "<tr>\n",
       "  <th>Omnibus:</th>       <td>1202.701</td> <th>  Durbin-Watson:     </th> <td>   1.258</td>\n",
       "</tr>\n",
       "<tr>\n",
       "  <th>Prob(Omnibus):</th>  <td> 0.000</td>  <th>  Jarque-Bera (JB):  </th> <td>7471.267</td>\n",
       "</tr>\n",
       "<tr>\n",
       "  <th>Skew:</th>           <td> 2.802</td>  <th>  Prob(JB):          </th> <td>    0.00</td>\n",
       "</tr>\n",
       "<tr>\n",
       "  <th>Kurtosis:</th>       <td>10.378</td>  <th>  Cond. No.          </th> <td>1.50e+05</td>\n",
       "</tr>\n",
       "</table><br/><br/>Warnings:<br/>[1] Standard Errors assume that the covariance matrix of the errors is correctly specified.<br/>[2] The condition number is large, 1.5e+05. This might indicate that there are<br/>strong multicollinearity or other numerical problems."
      ],
      "text/plain": [
       "<class 'statsmodels.iolib.summary.Summary'>\n",
       "\"\"\"\n",
       "                            OLS Regression Results                            \n",
       "==============================================================================\n",
       "Dep. Variable:        DaysPhysHlthBad   R-squared:                       0.026\n",
       "Model:                            OLS   Adj. R-squared:                  0.025\n",
       "Method:                 Least Squares   F-statistic:                     54.74\n",
       "Date:                Thu, 17 Dec 2020   Prob (F-statistic):           1.99e-13\n",
       "Time:                        11:23:59   Log-Likelihood:                -7007.5\n",
       "No. Observations:                2089   AIC:                         1.402e+04\n",
       "Df Residuals:                    2087   BIC:                         1.403e+04\n",
       "Df Model:                           1                                         \n",
       "Covariance Type:            nonrobust                                         \n",
       "==============================================================================\n",
       "                 coef    std err          t      P>|t|      [0.025      0.975]\n",
       "------------------------------------------------------------------------------\n",
       "const          5.1834      0.325     15.964      0.000       4.547       5.820\n",
       "x1         -3.421e-05   4.62e-06     -7.398      0.000   -4.33e-05   -2.51e-05\n",
       "==============================================================================\n",
       "Omnibus:                     1202.701   Durbin-Watson:                   1.258\n",
       "Prob(Omnibus):                  0.000   Jarque-Bera (JB):             7471.267\n",
       "Skew:                           2.802   Prob(JB):                         0.00\n",
       "Kurtosis:                      10.378   Cond. No.                     1.50e+05\n",
       "==============================================================================\n",
       "\n",
       "Warnings:\n",
       "[1] Standard Errors assume that the covariance matrix of the errors is correctly specified.\n",
       "[2] The condition number is large, 1.5e+05. This might indicate that there are\n",
       "strong multicollinearity or other numerical problems.\n",
       "\"\"\""
      ]
     },
     "metadata": {},
     "output_type": "display_data"
    }
   ],
   "source": [
    "#Get results from linear regression for the relationship between physical health status and income for white adults\n",
    "from statsmodels.regression.linear_model import OLS\n",
    "import statsmodels.api as sm\n",
    "\n",
    "x_vals_6 = white_health['HHIncomeMid'].values\n",
    "y_vals_6 = white_health['DaysPhysHlthBad']\n",
    "\n",
    "reg_model_6 = OLS(y_vals_6, sm.add_constant(x_vals_6)).fit()\n",
    "display(reg_model_6.summary())"
   ]
  },
  {
   "cell_type": "code",
   "execution_count": 134,
   "metadata": {},
   "outputs": [
    {
     "data": {
      "text/html": [
       "<table class=\"simpletable\">\n",
       "<caption>OLS Regression Results</caption>\n",
       "<tr>\n",
       "  <th>Dep. Variable:</th>     <td>DaysPhysHlthBad</td> <th>  R-squared:         </th> <td>   0.012</td>\n",
       "</tr>\n",
       "<tr>\n",
       "  <th>Model:</th>                   <td>OLS</td>       <th>  Adj. R-squared:    </th> <td>   0.008</td>\n",
       "</tr>\n",
       "<tr>\n",
       "  <th>Method:</th>             <td>Least Squares</td>  <th>  F-statistic:       </th> <td>   3.410</td>\n",
       "</tr>\n",
       "<tr>\n",
       "  <th>Date:</th>             <td>Thu, 17 Dec 2020</td> <th>  Prob (F-statistic):</th>  <td>0.0658</td> \n",
       "</tr>\n",
       "<tr>\n",
       "  <th>Time:</th>                 <td>11:24:09</td>     <th>  Log-Likelihood:    </th> <td> -1024.9</td>\n",
       "</tr>\n",
       "<tr>\n",
       "  <th>No. Observations:</th>      <td>   294</td>      <th>  AIC:               </th> <td>   2054.</td>\n",
       "</tr>\n",
       "<tr>\n",
       "  <th>Df Residuals:</th>          <td>   292</td>      <th>  BIC:               </th> <td>   2061.</td>\n",
       "</tr>\n",
       "<tr>\n",
       "  <th>Df Model:</th>              <td>     1</td>      <th>                     </th>     <td> </td>   \n",
       "</tr>\n",
       "<tr>\n",
       "  <th>Covariance Type:</th>      <td>nonrobust</td>    <th>                     </th>     <td> </td>   \n",
       "</tr>\n",
       "</table>\n",
       "<table class=\"simpletable\">\n",
       "<tr>\n",
       "    <td></td>       <th>coef</th>     <th>std err</th>      <th>t</th>      <th>P>|t|</th>  <th>[0.025</th>    <th>0.975]</th>  \n",
       "</tr>\n",
       "<tr>\n",
       "  <th>const</th> <td>    4.7397</td> <td>    0.818</td> <td>    5.793</td> <td> 0.000</td> <td>    3.129</td> <td>    6.350</td>\n",
       "</tr>\n",
       "<tr>\n",
       "  <th>x1</th>    <td>-2.606e-05</td> <td> 1.41e-05</td> <td>   -1.847</td> <td> 0.066</td> <td>-5.38e-05</td> <td> 1.71e-06</td>\n",
       "</tr>\n",
       "</table>\n",
       "<table class=\"simpletable\">\n",
       "<tr>\n",
       "  <th>Omnibus:</th>       <td>168.583</td> <th>  Durbin-Watson:     </th> <td>   1.799</td> \n",
       "</tr>\n",
       "<tr>\n",
       "  <th>Prob(Omnibus):</th> <td> 0.000</td>  <th>  Jarque-Bera (JB):  </th> <td> 717.291</td> \n",
       "</tr>\n",
       "<tr>\n",
       "  <th>Skew:</th>          <td> 2.597</td>  <th>  Prob(JB):          </th> <td>1.75e-156</td>\n",
       "</tr>\n",
       "<tr>\n",
       "  <th>Kurtosis:</th>      <td> 8.620</td>  <th>  Cond. No.          </th> <td>1.03e+05</td> \n",
       "</tr>\n",
       "</table><br/><br/>Warnings:<br/>[1] Standard Errors assume that the covariance matrix of the errors is correctly specified.<br/>[2] The condition number is large, 1.03e+05. This might indicate that there are<br/>strong multicollinearity or other numerical problems."
      ],
      "text/plain": [
       "<class 'statsmodels.iolib.summary.Summary'>\n",
       "\"\"\"\n",
       "                            OLS Regression Results                            \n",
       "==============================================================================\n",
       "Dep. Variable:        DaysPhysHlthBad   R-squared:                       0.012\n",
       "Model:                            OLS   Adj. R-squared:                  0.008\n",
       "Method:                 Least Squares   F-statistic:                     3.410\n",
       "Date:                Thu, 17 Dec 2020   Prob (F-statistic):             0.0658\n",
       "Time:                        11:24:09   Log-Likelihood:                -1024.9\n",
       "No. Observations:                 294   AIC:                             2054.\n",
       "Df Residuals:                     292   BIC:                             2061.\n",
       "Df Model:                           1                                         \n",
       "Covariance Type:            nonrobust                                         \n",
       "==============================================================================\n",
       "                 coef    std err          t      P>|t|      [0.025      0.975]\n",
       "------------------------------------------------------------------------------\n",
       "const          4.7397      0.818      5.793      0.000       3.129       6.350\n",
       "x1         -2.606e-05   1.41e-05     -1.847      0.066   -5.38e-05    1.71e-06\n",
       "==============================================================================\n",
       "Omnibus:                      168.583   Durbin-Watson:                   1.799\n",
       "Prob(Omnibus):                  0.000   Jarque-Bera (JB):              717.291\n",
       "Skew:                           2.597   Prob(JB):                    1.75e-156\n",
       "Kurtosis:                       8.620   Cond. No.                     1.03e+05\n",
       "==============================================================================\n",
       "\n",
       "Warnings:\n",
       "[1] Standard Errors assume that the covariance matrix of the errors is correctly specified.\n",
       "[2] The condition number is large, 1.03e+05. This might indicate that there are\n",
       "strong multicollinearity or other numerical problems.\n",
       "\"\"\""
      ]
     },
     "metadata": {},
     "output_type": "display_data"
    }
   ],
   "source": [
    "#Get results from linear regression for the relationship between physical health status and income for black adults\n",
    "from statsmodels.regression.linear_model import OLS\n",
    "import statsmodels.api as sm\n",
    "\n",
    "x_vals_7 = black_health['HHIncomeMid'].values\n",
    "y_vals_7 = black_health['DaysPhysHlthBad']\n",
    "\n",
    "reg_model_7 = OLS(y_vals_7, sm.add_constant(x_vals_7)).fit()\n",
    "display(reg_model_7.summary())"
   ]
  }
 ],
 "metadata": {
  "kernelspec": {
   "display_name": "Python 3",
   "language": "python",
   "name": "python3"
  },
  "language_info": {
   "codemirror_mode": {
    "name": "ipython",
    "version": 3
   },
   "file_extension": ".py",
   "mimetype": "text/x-python",
   "name": "python",
   "nbconvert_exporter": "python",
   "pygments_lexer": "ipython3",
   "version": "3.8.3"
  }
 },
 "nbformat": 4,
 "nbformat_minor": 4
}
